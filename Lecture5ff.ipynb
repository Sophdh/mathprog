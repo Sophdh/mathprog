{
 "cells": [
  {
   "cell_type": "code",
   "execution_count": 1,
   "id": "c3f2dabd-16e7-4ec7-ad66-d6808d536a3d",
   "metadata": {},
   "outputs": [],
   "source": [
    "import numpy as np"
   ]
  },
  {
   "cell_type": "code",
   "execution_count": 4,
   "id": "5eb17a74-301e-4219-a41a-353f97ce2b9a",
   "metadata": {},
   "outputs": [],
   "source": [
    "import pandas as pd"
   ]
  },
  {
   "cell_type": "code",
   "execution_count": 5,
   "id": "fc08c449-7309-4b34-97ca-b5068137ad2a",
   "metadata": {},
   "outputs": [],
   "source": [
    "import matplotlib.pyplot as plt"
   ]
  },
  {
   "cell_type": "code",
   "execution_count": 6,
   "id": "e38cf40a-b1a4-4d88-b049-d46bdc8e5e99",
   "metadata": {},
   "outputs": [],
   "source": [
    "## Subsetting Series"
   ]
  },
  {
   "cell_type": "code",
   "execution_count": 7,
   "id": "79ea1581-b7b1-49a9-a0a3-2d347a8caeb8",
   "metadata": {},
   "outputs": [
    {
     "name": "stdout",
     "output_type": "stream",
     "text": [
      "0    1\n",
      "1    7\n",
      "2    9\n",
      "dtype: int64\n"
     ]
    }
   ],
   "source": [
    "h= pd.Series(np.array([1,7,9]))\n",
    "print(h)"
   ]
  },
  {
   "cell_type": "code",
   "execution_count": 8,
   "id": "c91d1d5c-b4dc-4f08-b1b0-3d2d82e89bd3",
   "metadata": {},
   "outputs": [
    {
     "data": {
      "text/plain": [
       "9"
      ]
     },
     "execution_count": 8,
     "metadata": {},
     "output_type": "execute_result"
    }
   ],
   "source": [
    "h.loc[2]"
   ]
  },
  {
   "cell_type": "code",
   "execution_count": 9,
   "id": "084743fb-4a76-4145-bf49-ac73eae84e3e",
   "metadata": {},
   "outputs": [
    {
     "data": {
      "text/plain": [
       "0    1\n",
       "1    7\n",
       "2    9\n",
       "dtype: int64"
      ]
     },
     "execution_count": 9,
     "metadata": {},
     "output_type": "execute_result"
    }
   ],
   "source": [
    "h.loc[:2]"
   ]
  },
  {
   "cell_type": "code",
   "execution_count": 10,
   "id": "8922bd2e-2a09-4266-a3a1-fe93f5f666e8",
   "metadata": {},
   "outputs": [
    {
     "data": {
      "text/plain": [
       "0    1\n",
       "1    7\n",
       "dtype: int64"
      ]
     },
     "execution_count": 10,
     "metadata": {},
     "output_type": "execute_result"
    }
   ],
   "source": [
    "h.loc[[0,1]]"
   ]
  },
  {
   "cell_type": "code",
   "execution_count": 11,
   "id": "c02c2651-dba7-46a6-b74e-44aa94db7291",
   "metadata": {},
   "outputs": [
    {
     "data": {
      "text/plain": [
       "9"
      ]
     },
     "execution_count": 11,
     "metadata": {},
     "output_type": "execute_result"
    }
   ],
   "source": [
    "h.iloc[2]  "
   ]
  },
  {
   "cell_type": "code",
   "execution_count": 12,
   "id": "da2c0d8c-2152-4532-b6a5-78ee7cd315cb",
   "metadata": {},
   "outputs": [
    {
     "data": {
      "text/plain": [
       "0    1\n",
       "1    7\n",
       "dtype: int64"
      ]
     },
     "execution_count": 12,
     "metadata": {},
     "output_type": "execute_result"
    }
   ],
   "source": [
    "h.iloc[:2]"
   ]
  },
  {
   "cell_type": "code",
   "execution_count": 16,
   "id": "461e7492-af93-4788-880c-c751b23385c3",
   "metadata": {},
   "outputs": [
    {
     "data": {
      "text/plain": [
       "0    1\n",
       "1    7\n",
       "dtype: int64"
      ]
     },
     "execution_count": 16,
     "metadata": {},
     "output_type": "execute_result"
    }
   ],
   "source": [
    "h.iloc[[0,1]]"
   ]
  },
  {
   "cell_type": "markdown",
   "id": "dd30e463-7894-498a-9ad2-e26bf0dbbe4a",
   "metadata": {},
   "source": [
    "Exercise 1: Extract a individual value (5), slice for row indexed with 2 till 3 and a list of indecices for the row indexed with 1 and 3 from the series named t created from the array([3,5,7,8]))"
   ]
  },
  {
   "cell_type": "code",
   "execution_count": 44,
   "id": "bf4dcef8-c3d9-4a84-a77d-261ec432aea7",
   "metadata": {},
   "outputs": [
    {
     "name": "stdout",
     "output_type": "stream",
     "text": [
      "Extract a individual value (5):\n",
      " 5 \n",
      "slice for row indexed with 2 till 3:\n",
      " 2    7\n",
      "3    8\n",
      "dtype: int64 \n",
      "slice a list of indecices for the row indexed with 1 and 3:\n",
      " 1    5\n",
      "3    8\n",
      "dtype: int64\n"
     ]
    }
   ],
   "source": [
    "t = pd.Series(np.array([3, 5, 7, 8]))\n",
    "t1 = t.iloc[1]\n",
    "t2 = t.loc[2:3]\n",
    "t3 = t.loc[[1,3]]\n",
    "print('Extract a individual value (5):\\n', t1, '\\nslice for row indexed with 2 till 3:\\n', t2, '\\nslice a list of indecices for the row indexed with 1 and 3:\\n', t3 )"
   ]
  },
  {
   "cell_type": "code",
   "execution_count": 45,
   "id": "cda16269-10b8-4340-bcc7-e0bf9d495a73",
   "metadata": {},
   "outputs": [
    {
     "name": "stdout",
     "output_type": "stream",
     "text": [
      "te\n"
     ]
    }
   ],
   "source": [
    "print('t'  'e')"
   ]
  },
  {
   "cell_type": "code",
   "execution_count": null,
   "id": "d669a88f-7ccb-441c-b1c6-3ef877278366",
   "metadata": {},
   "outputs": [],
   "source": [
    "t= pd.Series(np.array([3,5,7,8]))\n",
    "t"
   ]
  },
  {
   "cell_type": "code",
   "execution_count": null,
   "id": "15f21419-e336-4ff6-9792-3da3df1d66d2",
   "metadata": {},
   "outputs": [],
   "source": [
    "## Subsetting DataFrame"
   ]
  },
  {
   "cell_type": "code",
   "execution_count": 46,
   "id": "435ddcce-9ca4-4166-8544-da2a1cfb29b6",
   "metadata": {},
   "outputs": [
    {
     "name": "stdout",
     "output_type": "stream",
     "text": [
      "     State Code                   State Name Country Code\n",
      "0           BDS                   Badakhshan           AF\n",
      "1           BDG                      Badghis           AF\n",
      "2           BGL                      Baghlan           AF\n",
      "3           BAL                        Balkh           AF\n",
      "4           BAM                       Bamyan           AF\n",
      "...         ...                          ...          ...\n",
      "4984         MW    Mashonaland West Province           ZW\n",
      "4985         MV            Masvingo Province           ZW\n",
      "4986         MN  Matabeleland North Province           ZW\n",
      "4987         MS  Matabeleland South Province           ZW\n",
      "4988         MI            Midlands Province           ZW\n",
      "\n",
      "[4989 rows x 3 columns]\n"
     ]
    }
   ],
   "source": [
    "States = pd.read_csv('states_by_country_code.csv')\n",
    "print(States)"
   ]
  },
  {
   "cell_type": "code",
   "execution_count": 47,
   "id": "7536b1bc-33a1-43f8-9d51-0ea574a54753",
   "metadata": {},
   "outputs": [
    {
     "data": {
      "text/plain": [
       "0       AF\n",
       "1       AF\n",
       "2       AF\n",
       "3       AF\n",
       "4       AF\n",
       "        ..\n",
       "4984    ZW\n",
       "4985    ZW\n",
       "4986    ZW\n",
       "4987    ZW\n",
       "4988    ZW\n",
       "Name: Country Code, Length: 4989, dtype: object"
      ]
     },
     "execution_count": 47,
     "metadata": {},
     "output_type": "execute_result"
    }
   ],
   "source": [
    "States.loc[:, 'Country Code']"
   ]
  },
  {
   "cell_type": "code",
   "execution_count": 48,
   "id": "a39e2e51-c6e3-4983-a23d-b45f1729bb6c",
   "metadata": {},
   "outputs": [
    {
     "data": {
      "text/plain": [
       "0       AF\n",
       "1       AF\n",
       "2       AF\n",
       "3       AF\n",
       "4       AF\n",
       "        ..\n",
       "4984    ZW\n",
       "4985    ZW\n",
       "4986    ZW\n",
       "4987    ZW\n",
       "4988    ZW\n",
       "Name: Country Code, Length: 4989, dtype: object"
      ]
     },
     "execution_count": 48,
     "metadata": {},
     "output_type": "execute_result"
    }
   ],
   "source": [
    "States['Country Code']"
   ]
  },
  {
   "cell_type": "code",
   "execution_count": 49,
   "id": "018fce2f-c3dd-4e9a-a7b4-e8f486104251",
   "metadata": {},
   "outputs": [
    {
     "data": {
      "text/html": [
       "<div>\n",
       "<style scoped>\n",
       "    .dataframe tbody tr th:only-of-type {\n",
       "        vertical-align: middle;\n",
       "    }\n",
       "\n",
       "    .dataframe tbody tr th {\n",
       "        vertical-align: top;\n",
       "    }\n",
       "\n",
       "    .dataframe thead th {\n",
       "        text-align: right;\n",
       "    }\n",
       "</style>\n",
       "<table border=\"1\" class=\"dataframe\">\n",
       "  <thead>\n",
       "    <tr style=\"text-align: right;\">\n",
       "      <th></th>\n",
       "      <th>Country Code</th>\n",
       "    </tr>\n",
       "  </thead>\n",
       "  <tbody>\n",
       "    <tr>\n",
       "      <th>0</th>\n",
       "      <td>AF</td>\n",
       "    </tr>\n",
       "    <tr>\n",
       "      <th>1</th>\n",
       "      <td>AF</td>\n",
       "    </tr>\n",
       "    <tr>\n",
       "      <th>2</th>\n",
       "      <td>AF</td>\n",
       "    </tr>\n",
       "    <tr>\n",
       "      <th>3</th>\n",
       "      <td>AF</td>\n",
       "    </tr>\n",
       "    <tr>\n",
       "      <th>4</th>\n",
       "      <td>AF</td>\n",
       "    </tr>\n",
       "    <tr>\n",
       "      <th>...</th>\n",
       "      <td>...</td>\n",
       "    </tr>\n",
       "    <tr>\n",
       "      <th>4984</th>\n",
       "      <td>ZW</td>\n",
       "    </tr>\n",
       "    <tr>\n",
       "      <th>4985</th>\n",
       "      <td>ZW</td>\n",
       "    </tr>\n",
       "    <tr>\n",
       "      <th>4986</th>\n",
       "      <td>ZW</td>\n",
       "    </tr>\n",
       "    <tr>\n",
       "      <th>4987</th>\n",
       "      <td>ZW</td>\n",
       "    </tr>\n",
       "    <tr>\n",
       "      <th>4988</th>\n",
       "      <td>ZW</td>\n",
       "    </tr>\n",
       "  </tbody>\n",
       "</table>\n",
       "<p>4989 rows × 1 columns</p>\n",
       "</div>"
      ],
      "text/plain": [
       "     Country Code\n",
       "0              AF\n",
       "1              AF\n",
       "2              AF\n",
       "3              AF\n",
       "4              AF\n",
       "...           ...\n",
       "4984           ZW\n",
       "4985           ZW\n",
       "4986           ZW\n",
       "4987           ZW\n",
       "4988           ZW\n",
       "\n",
       "[4989 rows x 1 columns]"
      ]
     },
     "execution_count": 49,
     "metadata": {},
     "output_type": "execute_result"
    }
   ],
   "source": [
    "States.loc[:, ['Country Code']]"
   ]
  },
  {
   "cell_type": "code",
   "execution_count": 50,
   "id": "7828b64b-d68a-42db-bd6c-14284d1d603f",
   "metadata": {},
   "outputs": [
    {
     "data": {
      "text/html": [
       "<div>\n",
       "<style scoped>\n",
       "    .dataframe tbody tr th:only-of-type {\n",
       "        vertical-align: middle;\n",
       "    }\n",
       "\n",
       "    .dataframe tbody tr th {\n",
       "        vertical-align: top;\n",
       "    }\n",
       "\n",
       "    .dataframe thead th {\n",
       "        text-align: right;\n",
       "    }\n",
       "</style>\n",
       "<table border=\"1\" class=\"dataframe\">\n",
       "  <thead>\n",
       "    <tr style=\"text-align: right;\">\n",
       "      <th></th>\n",
       "      <th>Country Code</th>\n",
       "    </tr>\n",
       "  </thead>\n",
       "  <tbody>\n",
       "    <tr>\n",
       "      <th>0</th>\n",
       "      <td>AF</td>\n",
       "    </tr>\n",
       "    <tr>\n",
       "      <th>1</th>\n",
       "      <td>AF</td>\n",
       "    </tr>\n",
       "    <tr>\n",
       "      <th>2</th>\n",
       "      <td>AF</td>\n",
       "    </tr>\n",
       "    <tr>\n",
       "      <th>3</th>\n",
       "      <td>AF</td>\n",
       "    </tr>\n",
       "    <tr>\n",
       "      <th>4</th>\n",
       "      <td>AF</td>\n",
       "    </tr>\n",
       "    <tr>\n",
       "      <th>...</th>\n",
       "      <td>...</td>\n",
       "    </tr>\n",
       "    <tr>\n",
       "      <th>4984</th>\n",
       "      <td>ZW</td>\n",
       "    </tr>\n",
       "    <tr>\n",
       "      <th>4985</th>\n",
       "      <td>ZW</td>\n",
       "    </tr>\n",
       "    <tr>\n",
       "      <th>4986</th>\n",
       "      <td>ZW</td>\n",
       "    </tr>\n",
       "    <tr>\n",
       "      <th>4987</th>\n",
       "      <td>ZW</td>\n",
       "    </tr>\n",
       "    <tr>\n",
       "      <th>4988</th>\n",
       "      <td>ZW</td>\n",
       "    </tr>\n",
       "  </tbody>\n",
       "</table>\n",
       "<p>4989 rows × 1 columns</p>\n",
       "</div>"
      ],
      "text/plain": [
       "     Country Code\n",
       "0              AF\n",
       "1              AF\n",
       "2              AF\n",
       "3              AF\n",
       "4              AF\n",
       "...           ...\n",
       "4984           ZW\n",
       "4985           ZW\n",
       "4986           ZW\n",
       "4987           ZW\n",
       "4988           ZW\n",
       "\n",
       "[4989 rows x 1 columns]"
      ]
     },
     "execution_count": 50,
     "metadata": {},
     "output_type": "execute_result"
    }
   ],
   "source": [
    "States[['Country Code']]"
   ]
  },
  {
   "cell_type": "code",
   "execution_count": 51,
   "id": "4a179d4d-4131-461e-8fb8-fe6cee1109e2",
   "metadata": {},
   "outputs": [
    {
     "data": {
      "text/html": [
       "<div>\n",
       "<style scoped>\n",
       "    .dataframe tbody tr th:only-of-type {\n",
       "        vertical-align: middle;\n",
       "    }\n",
       "\n",
       "    .dataframe tbody tr th {\n",
       "        vertical-align: top;\n",
       "    }\n",
       "\n",
       "    .dataframe thead th {\n",
       "        text-align: right;\n",
       "    }\n",
       "</style>\n",
       "<table border=\"1\" class=\"dataframe\">\n",
       "  <thead>\n",
       "    <tr style=\"text-align: right;\">\n",
       "      <th></th>\n",
       "      <th>Country Code</th>\n",
       "      <th>State Code</th>\n",
       "    </tr>\n",
       "  </thead>\n",
       "  <tbody>\n",
       "    <tr>\n",
       "      <th>0</th>\n",
       "      <td>AF</td>\n",
       "      <td>BDS</td>\n",
       "    </tr>\n",
       "    <tr>\n",
       "      <th>1</th>\n",
       "      <td>AF</td>\n",
       "      <td>BDG</td>\n",
       "    </tr>\n",
       "    <tr>\n",
       "      <th>2</th>\n",
       "      <td>AF</td>\n",
       "      <td>BGL</td>\n",
       "    </tr>\n",
       "    <tr>\n",
       "      <th>3</th>\n",
       "      <td>AF</td>\n",
       "      <td>BAL</td>\n",
       "    </tr>\n",
       "    <tr>\n",
       "      <th>4</th>\n",
       "      <td>AF</td>\n",
       "      <td>BAM</td>\n",
       "    </tr>\n",
       "    <tr>\n",
       "      <th>...</th>\n",
       "      <td>...</td>\n",
       "      <td>...</td>\n",
       "    </tr>\n",
       "    <tr>\n",
       "      <th>4984</th>\n",
       "      <td>ZW</td>\n",
       "      <td>MW</td>\n",
       "    </tr>\n",
       "    <tr>\n",
       "      <th>4985</th>\n",
       "      <td>ZW</td>\n",
       "      <td>MV</td>\n",
       "    </tr>\n",
       "    <tr>\n",
       "      <th>4986</th>\n",
       "      <td>ZW</td>\n",
       "      <td>MN</td>\n",
       "    </tr>\n",
       "    <tr>\n",
       "      <th>4987</th>\n",
       "      <td>ZW</td>\n",
       "      <td>MS</td>\n",
       "    </tr>\n",
       "    <tr>\n",
       "      <th>4988</th>\n",
       "      <td>ZW</td>\n",
       "      <td>MI</td>\n",
       "    </tr>\n",
       "  </tbody>\n",
       "</table>\n",
       "<p>4989 rows × 2 columns</p>\n",
       "</div>"
      ],
      "text/plain": [
       "     Country Code State Code\n",
       "0              AF        BDS\n",
       "1              AF        BDG\n",
       "2              AF        BGL\n",
       "3              AF        BAL\n",
       "4              AF        BAM\n",
       "...           ...        ...\n",
       "4984           ZW         MW\n",
       "4985           ZW         MV\n",
       "4986           ZW         MN\n",
       "4987           ZW         MS\n",
       "4988           ZW         MI\n",
       "\n",
       "[4989 rows x 2 columns]"
      ]
     },
     "execution_count": 51,
     "metadata": {},
     "output_type": "execute_result"
    }
   ],
   "source": [
    "States[['Country Code','State Code']]"
   ]
  },
  {
   "cell_type": "code",
   "execution_count": 52,
   "id": "6be842f7-1293-4287-9ee8-e7a8d4bc9f9c",
   "metadata": {},
   "outputs": [
    {
     "data": {
      "text/html": [
       "<div>\n",
       "<style scoped>\n",
       "    .dataframe tbody tr th:only-of-type {\n",
       "        vertical-align: middle;\n",
       "    }\n",
       "\n",
       "    .dataframe tbody tr th {\n",
       "        vertical-align: top;\n",
       "    }\n",
       "\n",
       "    .dataframe thead th {\n",
       "        text-align: right;\n",
       "    }\n",
       "</style>\n",
       "<table border=\"1\" class=\"dataframe\">\n",
       "  <thead>\n",
       "    <tr style=\"text-align: right;\">\n",
       "      <th></th>\n",
       "      <th>State Code</th>\n",
       "      <th>State Name</th>\n",
       "    </tr>\n",
       "  </thead>\n",
       "  <tbody>\n",
       "    <tr>\n",
       "      <th>0</th>\n",
       "      <td>BDS</td>\n",
       "      <td>Badakhshan</td>\n",
       "    </tr>\n",
       "    <tr>\n",
       "      <th>1</th>\n",
       "      <td>BDG</td>\n",
       "      <td>Badghis</td>\n",
       "    </tr>\n",
       "    <tr>\n",
       "      <th>2</th>\n",
       "      <td>BGL</td>\n",
       "      <td>Baghlan</td>\n",
       "    </tr>\n",
       "    <tr>\n",
       "      <th>3</th>\n",
       "      <td>BAL</td>\n",
       "      <td>Balkh</td>\n",
       "    </tr>\n",
       "    <tr>\n",
       "      <th>4</th>\n",
       "      <td>BAM</td>\n",
       "      <td>Bamyan</td>\n",
       "    </tr>\n",
       "    <tr>\n",
       "      <th>...</th>\n",
       "      <td>...</td>\n",
       "      <td>...</td>\n",
       "    </tr>\n",
       "    <tr>\n",
       "      <th>4984</th>\n",
       "      <td>MW</td>\n",
       "      <td>Mashonaland West Province</td>\n",
       "    </tr>\n",
       "    <tr>\n",
       "      <th>4985</th>\n",
       "      <td>MV</td>\n",
       "      <td>Masvingo Province</td>\n",
       "    </tr>\n",
       "    <tr>\n",
       "      <th>4986</th>\n",
       "      <td>MN</td>\n",
       "      <td>Matabeleland North Province</td>\n",
       "    </tr>\n",
       "    <tr>\n",
       "      <th>4987</th>\n",
       "      <td>MS</td>\n",
       "      <td>Matabeleland South Province</td>\n",
       "    </tr>\n",
       "    <tr>\n",
       "      <th>4988</th>\n",
       "      <td>MI</td>\n",
       "      <td>Midlands Province</td>\n",
       "    </tr>\n",
       "  </tbody>\n",
       "</table>\n",
       "<p>4989 rows × 2 columns</p>\n",
       "</div>"
      ],
      "text/plain": [
       "     State Code                   State Name\n",
       "0           BDS                   Badakhshan\n",
       "1           BDG                      Badghis\n",
       "2           BGL                      Baghlan\n",
       "3           BAL                        Balkh\n",
       "4           BAM                       Bamyan\n",
       "...         ...                          ...\n",
       "4984         MW    Mashonaland West Province\n",
       "4985         MV            Masvingo Province\n",
       "4986         MN  Matabeleland North Province\n",
       "4987         MS  Matabeleland South Province\n",
       "4988         MI            Midlands Province\n",
       "\n",
       "[4989 rows x 2 columns]"
      ]
     },
     "execution_count": 52,
     "metadata": {},
     "output_type": "execute_result"
    }
   ],
   "source": [
    "States.loc[:,'State Code':'State Name']"
   ]
  },
  {
   "cell_type": "code",
   "execution_count": 53,
   "id": "e584a233-4f52-4fdd-aa7c-d61e1ae9d08f",
   "metadata": {},
   "outputs": [
    {
     "data": {
      "text/html": [
       "<div>\n",
       "<style scoped>\n",
       "    .dataframe tbody tr th:only-of-type {\n",
       "        vertical-align: middle;\n",
       "    }\n",
       "\n",
       "    .dataframe tbody tr th {\n",
       "        vertical-align: top;\n",
       "    }\n",
       "\n",
       "    .dataframe thead th {\n",
       "        text-align: right;\n",
       "    }\n",
       "</style>\n",
       "<table border=\"1\" class=\"dataframe\">\n",
       "  <thead>\n",
       "    <tr style=\"text-align: right;\">\n",
       "      <th></th>\n",
       "      <th>State Code</th>\n",
       "      <th>State Name</th>\n",
       "    </tr>\n",
       "  </thead>\n",
       "  <tbody>\n",
       "    <tr>\n",
       "      <th>0</th>\n",
       "      <td>BDS</td>\n",
       "      <td>Badakhshan</td>\n",
       "    </tr>\n",
       "    <tr>\n",
       "      <th>1</th>\n",
       "      <td>BDG</td>\n",
       "      <td>Badghis</td>\n",
       "    </tr>\n",
       "    <tr>\n",
       "      <th>2</th>\n",
       "      <td>BGL</td>\n",
       "      <td>Baghlan</td>\n",
       "    </tr>\n",
       "    <tr>\n",
       "      <th>3</th>\n",
       "      <td>BAL</td>\n",
       "      <td>Balkh</td>\n",
       "    </tr>\n",
       "    <tr>\n",
       "      <th>4</th>\n",
       "      <td>BAM</td>\n",
       "      <td>Bamyan</td>\n",
       "    </tr>\n",
       "    <tr>\n",
       "      <th>...</th>\n",
       "      <td>...</td>\n",
       "      <td>...</td>\n",
       "    </tr>\n",
       "    <tr>\n",
       "      <th>4984</th>\n",
       "      <td>MW</td>\n",
       "      <td>Mashonaland West Province</td>\n",
       "    </tr>\n",
       "    <tr>\n",
       "      <th>4985</th>\n",
       "      <td>MV</td>\n",
       "      <td>Masvingo Province</td>\n",
       "    </tr>\n",
       "    <tr>\n",
       "      <th>4986</th>\n",
       "      <td>MN</td>\n",
       "      <td>Matabeleland North Province</td>\n",
       "    </tr>\n",
       "    <tr>\n",
       "      <th>4987</th>\n",
       "      <td>MS</td>\n",
       "      <td>Matabeleland South Province</td>\n",
       "    </tr>\n",
       "    <tr>\n",
       "      <th>4988</th>\n",
       "      <td>MI</td>\n",
       "      <td>Midlands Province</td>\n",
       "    </tr>\n",
       "  </tbody>\n",
       "</table>\n",
       "<p>4989 rows × 2 columns</p>\n",
       "</div>"
      ],
      "text/plain": [
       "     State Code                   State Name\n",
       "0           BDS                   Badakhshan\n",
       "1           BDG                      Badghis\n",
       "2           BGL                      Baghlan\n",
       "3           BAL                        Balkh\n",
       "4           BAM                       Bamyan\n",
       "...         ...                          ...\n",
       "4984         MW    Mashonaland West Province\n",
       "4985         MV            Masvingo Province\n",
       "4986         MN  Matabeleland North Province\n",
       "4987         MS  Matabeleland South Province\n",
       "4988         MI            Midlands Province\n",
       "\n",
       "[4989 rows x 2 columns]"
      ]
     },
     "execution_count": 53,
     "metadata": {},
     "output_type": "execute_result"
    }
   ],
   "source": [
    "States.loc[:, :'State Name']"
   ]
  },
  {
   "cell_type": "markdown",
   "id": "b9c9bb96-ecdf-437b-b5b3-6075bfa8bd20",
   "metadata": {},
   "source": [
    "Exercise 2: Read the country_full.csv file, and select all columns after 'sub-region' columns and save it to a file named country_columnselection.csv (method for saving: your_data.to_csv('your_output'))"
   ]
  },
  {
   "cell_type": "code",
   "execution_count": 66,
   "id": "ace28cdf-5bff-492e-913f-6dd0f83261c8",
   "metadata": {},
   "outputs": [],
   "source": [
    "Ex2 = pd.read_csv('country_full.csv')\n",
    "Ex2_subset = Ex2.loc[:, 'sub-region':]\n",
    "Ex2_subset.to_csv('Ex2_subset_export')\n",
    "Ex2_subset.to_csv('Ex2_subset_export2', index = False)"
   ]
  },
  {
   "cell_type": "code",
   "execution_count": 67,
   "id": "70f98a36-54a1-4864-ba8a-4cd6e952abc5",
   "metadata": {},
   "outputs": [
    {
     "data": {
      "text/html": [
       "<div>\n",
       "<style scoped>\n",
       "    .dataframe tbody tr th:only-of-type {\n",
       "        vertical-align: middle;\n",
       "    }\n",
       "\n",
       "    .dataframe tbody tr th {\n",
       "        vertical-align: top;\n",
       "    }\n",
       "\n",
       "    .dataframe thead th {\n",
       "        text-align: right;\n",
       "    }\n",
       "</style>\n",
       "<table border=\"1\" class=\"dataframe\">\n",
       "  <thead>\n",
       "    <tr style=\"text-align: right;\">\n",
       "      <th></th>\n",
       "      <th>State Code</th>\n",
       "      <th>State Name</th>\n",
       "      <th>Country Code</th>\n",
       "    </tr>\n",
       "  </thead>\n",
       "  <tbody>\n",
       "    <tr>\n",
       "      <th>0</th>\n",
       "      <td>BDS</td>\n",
       "      <td>Badakhshan</td>\n",
       "      <td>AF</td>\n",
       "    </tr>\n",
       "  </tbody>\n",
       "</table>\n",
       "</div>"
      ],
      "text/plain": [
       "  State Code  State Name Country Code\n",
       "0        BDS  Badakhshan           AF"
      ]
     },
     "execution_count": 67,
     "metadata": {},
     "output_type": "execute_result"
    }
   ],
   "source": [
    "States.loc[[0], :] "
   ]
  },
  {
   "cell_type": "code",
   "execution_count": 68,
   "id": "489b2a59-7135-4c30-99b9-820500663385",
   "metadata": {},
   "outputs": [
    {
     "data": {
      "text/html": [
       "<div>\n",
       "<style scoped>\n",
       "    .dataframe tbody tr th:only-of-type {\n",
       "        vertical-align: middle;\n",
       "    }\n",
       "\n",
       "    .dataframe tbody tr th {\n",
       "        vertical-align: top;\n",
       "    }\n",
       "\n",
       "    .dataframe thead th {\n",
       "        text-align: right;\n",
       "    }\n",
       "</style>\n",
       "<table border=\"1\" class=\"dataframe\">\n",
       "  <thead>\n",
       "    <tr style=\"text-align: right;\">\n",
       "      <th></th>\n",
       "      <th>State Code</th>\n",
       "      <th>State Name</th>\n",
       "      <th>Country Code</th>\n",
       "    </tr>\n",
       "  </thead>\n",
       "  <tbody>\n",
       "    <tr>\n",
       "      <th>0</th>\n",
       "      <td>BDS</td>\n",
       "      <td>Badakhshan</td>\n",
       "      <td>AF</td>\n",
       "    </tr>\n",
       "    <tr>\n",
       "      <th>1</th>\n",
       "      <td>BDG</td>\n",
       "      <td>Badghis</td>\n",
       "      <td>AF</td>\n",
       "    </tr>\n",
       "    <tr>\n",
       "      <th>2</th>\n",
       "      <td>BGL</td>\n",
       "      <td>Baghlan</td>\n",
       "      <td>AF</td>\n",
       "    </tr>\n",
       "    <tr>\n",
       "      <th>3</th>\n",
       "      <td>BAL</td>\n",
       "      <td>Balkh</td>\n",
       "      <td>AF</td>\n",
       "    </tr>\n",
       "  </tbody>\n",
       "</table>\n",
       "</div>"
      ],
      "text/plain": [
       "  State Code  State Name Country Code\n",
       "0        BDS  Badakhshan           AF\n",
       "1        BDG     Badghis           AF\n",
       "2        BGL     Baghlan           AF\n",
       "3        BAL       Balkh           AF"
      ]
     },
     "execution_count": 68,
     "metadata": {},
     "output_type": "execute_result"
    }
   ],
   "source": [
    "States.loc[0:3, :]  "
   ]
  },
  {
   "cell_type": "code",
   "execution_count": 70,
   "id": "107b015a-1d0e-47a8-b7fe-de2d94506413",
   "metadata": {},
   "outputs": [
    {
     "data": {
      "text/html": [
       "<div>\n",
       "<style scoped>\n",
       "    .dataframe tbody tr th:only-of-type {\n",
       "        vertical-align: middle;\n",
       "    }\n",
       "\n",
       "    .dataframe tbody tr th {\n",
       "        vertical-align: top;\n",
       "    }\n",
       "\n",
       "    .dataframe thead th {\n",
       "        text-align: right;\n",
       "    }\n",
       "</style>\n",
       "<table border=\"1\" class=\"dataframe\">\n",
       "  <thead>\n",
       "    <tr style=\"text-align: right;\">\n",
       "      <th></th>\n",
       "      <th>State Code</th>\n",
       "      <th>State Name</th>\n",
       "      <th>Country Code</th>\n",
       "    </tr>\n",
       "  </thead>\n",
       "  <tbody>\n",
       "    <tr>\n",
       "      <th>0</th>\n",
       "      <td>BDS</td>\n",
       "      <td>Badakhshan</td>\n",
       "      <td>AF</td>\n",
       "    </tr>\n",
       "    <tr>\n",
       "      <th>1</th>\n",
       "      <td>BDG</td>\n",
       "      <td>Badghis</td>\n",
       "      <td>AF</td>\n",
       "    </tr>\n",
       "    <tr>\n",
       "      <th>2</th>\n",
       "      <td>BGL</td>\n",
       "      <td>Baghlan</td>\n",
       "      <td>AF</td>\n",
       "    </tr>\n",
       "  </tbody>\n",
       "</table>\n",
       "</div>"
      ],
      "text/plain": [
       "  State Code  State Name Country Code\n",
       "0        BDS  Badakhshan           AF\n",
       "1        BDG     Badghis           AF\n",
       "2        BGL     Baghlan           AF"
      ]
     },
     "execution_count": 70,
     "metadata": {},
     "output_type": "execute_result"
    }
   ],
   "source": [
    "States.iloc[0:3, :]  "
   ]
  },
  {
   "cell_type": "code",
   "execution_count": 71,
   "id": "9acd8a4f-409b-496a-856b-481d65da8d12",
   "metadata": {},
   "outputs": [
    {
     "data": {
      "text/html": [
       "<div>\n",
       "<style scoped>\n",
       "    .dataframe tbody tr th:only-of-type {\n",
       "        vertical-align: middle;\n",
       "    }\n",
       "\n",
       "    .dataframe tbody tr th {\n",
       "        vertical-align: top;\n",
       "    }\n",
       "\n",
       "    .dataframe thead th {\n",
       "        text-align: right;\n",
       "    }\n",
       "</style>\n",
       "<table border=\"1\" class=\"dataframe\">\n",
       "  <thead>\n",
       "    <tr style=\"text-align: right;\">\n",
       "      <th></th>\n",
       "      <th>State Code</th>\n",
       "      <th>State Name</th>\n",
       "      <th>Country Code</th>\n",
       "    </tr>\n",
       "  </thead>\n",
       "  <tbody>\n",
       "    <tr>\n",
       "      <th>0</th>\n",
       "      <td>BDS</td>\n",
       "      <td>Badakhshan</td>\n",
       "      <td>AF</td>\n",
       "    </tr>\n",
       "    <tr>\n",
       "      <th>2</th>\n",
       "      <td>BGL</td>\n",
       "      <td>Baghlan</td>\n",
       "      <td>AF</td>\n",
       "    </tr>\n",
       "  </tbody>\n",
       "</table>\n",
       "</div>"
      ],
      "text/plain": [
       "  State Code  State Name Country Code\n",
       "0        BDS  Badakhshan           AF\n",
       "2        BGL     Baghlan           AF"
      ]
     },
     "execution_count": 71,
     "metadata": {},
     "output_type": "execute_result"
    }
   ],
   "source": [
    "States.loc[[0, 2], :]"
   ]
  },
  {
   "cell_type": "code",
   "execution_count": 72,
   "id": "4d646257-676d-49de-8d35-ee8b7dce1813",
   "metadata": {},
   "outputs": [
    {
     "data": {
      "text/html": [
       "<div>\n",
       "<style scoped>\n",
       "    .dataframe tbody tr th:only-of-type {\n",
       "        vertical-align: middle;\n",
       "    }\n",
       "\n",
       "    .dataframe tbody tr th {\n",
       "        vertical-align: top;\n",
       "    }\n",
       "\n",
       "    .dataframe thead th {\n",
       "        text-align: right;\n",
       "    }\n",
       "</style>\n",
       "<table border=\"1\" class=\"dataframe\">\n",
       "  <thead>\n",
       "    <tr style=\"text-align: right;\">\n",
       "      <th></th>\n",
       "      <th>State Code</th>\n",
       "      <th>State Name</th>\n",
       "      <th>Country Code</th>\n",
       "    </tr>\n",
       "  </thead>\n",
       "  <tbody>\n",
       "    <tr>\n",
       "      <th>0</th>\n",
       "      <td>BDS</td>\n",
       "      <td>Badakhshan</td>\n",
       "      <td>AF</td>\n",
       "    </tr>\n",
       "    <tr>\n",
       "      <th>2</th>\n",
       "      <td>BGL</td>\n",
       "      <td>Baghlan</td>\n",
       "      <td>AF</td>\n",
       "    </tr>\n",
       "  </tbody>\n",
       "</table>\n",
       "</div>"
      ],
      "text/plain": [
       "  State Code  State Name Country Code\n",
       "0        BDS  Badakhshan           AF\n",
       "2        BGL     Baghlan           AF"
      ]
     },
     "execution_count": 72,
     "metadata": {},
     "output_type": "execute_result"
    }
   ],
   "source": [
    "States.iloc[[0, 2], :]"
   ]
  },
  {
   "cell_type": "markdown",
   "id": "cdb5a218-8801-46e7-ad55-3c5fcf4e5c75",
   "metadata": {},
   "source": [
    "Exercise 3: Select the 2nd (refer to index) to 4th (refer to index) rows for State Code and Country Code columns in states_by_country_code.csv file. Do .iloc method for rows and .loc method for columns relying on a shortcut data.iloc[].loc[]"
   ]
  },
  {
   "cell_type": "markdown",
   "id": "f788cac6-58cc-47fd-9f7d-3618f22d265c",
   "metadata": {},
   "source": [
    "Exercise 4: Extract the 'BDS' from states_by_country_code.csv file by .iloc method"
   ]
  },
  {
   "cell_type": "code",
   "execution_count": 111,
   "id": "dba853c5-7593-4be8-a788-d1649352bc9e",
   "metadata": {},
   "outputs": [
    {
     "data": {
      "text/html": [
       "<div>\n",
       "<style scoped>\n",
       "    .dataframe tbody tr th:only-of-type {\n",
       "        vertical-align: middle;\n",
       "    }\n",
       "\n",
       "    .dataframe tbody tr th {\n",
       "        vertical-align: top;\n",
       "    }\n",
       "\n",
       "    .dataframe thead th {\n",
       "        text-align: right;\n",
       "    }\n",
       "</style>\n",
       "<table border=\"1\" class=\"dataframe\">\n",
       "  <thead>\n",
       "    <tr style=\"text-align: right;\">\n",
       "      <th></th>\n",
       "      <th>State Code</th>\n",
       "      <th>Country Code</th>\n",
       "    </tr>\n",
       "  </thead>\n",
       "  <tbody>\n",
       "    <tr>\n",
       "      <th>2</th>\n",
       "      <td>BGL</td>\n",
       "      <td>AF</td>\n",
       "    </tr>\n",
       "    <tr>\n",
       "      <th>3</th>\n",
       "      <td>BAL</td>\n",
       "      <td>AF</td>\n",
       "    </tr>\n",
       "    <tr>\n",
       "      <th>4</th>\n",
       "      <td>BAM</td>\n",
       "      <td>AF</td>\n",
       "    </tr>\n",
       "  </tbody>\n",
       "</table>\n",
       "</div>"
      ],
      "text/plain": [
       "  State Code Country Code\n",
       "2        BGL           AF\n",
       "3        BAL           AF\n",
       "4        BAM           AF"
      ]
     },
     "execution_count": 111,
     "metadata": {},
     "output_type": "execute_result"
    }
   ],
   "source": [
    "State_bcc = pd.read_csv('states_by_country_code.csv')\n",
    "State_bcc.iloc[2:5, :].loc[:,['State Code', 'Country Code']]"
   ]
  },
  {
   "cell_type": "code",
   "execution_count": 121,
   "id": "e984fd1c-89c4-43d2-b18b-4b852c1b545e",
   "metadata": {},
   "outputs": [
    {
     "data": {
      "text/plain": [
       "'BDS'"
      ]
     },
     "execution_count": 121,
     "metadata": {},
     "output_type": "execute_result"
    }
   ],
   "source": [
    "State_bcc.iloc[0, 0]"
   ]
  },
  {
   "cell_type": "code",
   "execution_count": 122,
   "id": "81373db4-79a9-41ca-8301-035598a5a780",
   "metadata": {},
   "outputs": [
    {
     "name": "stdout",
     "output_type": "stream",
     "text": [
      "                  name alpha-2 alpha-3  country-code     iso_3166-2   region   \n",
      "0          Afghanistan      AF     AFG             4  ISO 3166-2:AF     Asia  \\\n",
      "1        Åland Islands      AX     ALA           248  ISO 3166-2:AX   Europe   \n",
      "2              Albania      AL     ALB             8  ISO 3166-2:AL   Europe   \n",
      "3              Algeria      DZ     DZA            12  ISO 3166-2:DZ   Africa   \n",
      "4       American Samoa      AS     ASM            16  ISO 3166-2:AS  Oceania   \n",
      "..                 ...     ...     ...           ...            ...      ...   \n",
      "244  Wallis and Futuna      WF     WLF           876  ISO 3166-2:WF  Oceania   \n",
      "245     Western Sahara      EH     ESH           732  ISO 3166-2:EH   Africa   \n",
      "246              Yemen      YE     YEM           887  ISO 3166-2:YE     Asia   \n",
      "247             Zambia      ZM     ZMB           894  ISO 3166-2:ZM   Africa   \n",
      "248           Zimbabwe      ZW     ZWE           716  ISO 3166-2:ZW   Africa   \n",
      "\n",
      "             sub-region intermediate-region  region-code  sub-region-code   \n",
      "0         Southern Asia                 NaN        142.0             34.0  \\\n",
      "1       Northern Europe                 NaN        150.0            154.0   \n",
      "2       Southern Europe                 NaN        150.0             39.0   \n",
      "3       Northern Africa                 NaN          2.0             15.0   \n",
      "4             Polynesia                 NaN          9.0             61.0   \n",
      "..                  ...                 ...          ...              ...   \n",
      "244           Polynesia                 NaN          9.0             61.0   \n",
      "245     Northern Africa                 NaN          2.0             15.0   \n",
      "246        Western Asia                 NaN        142.0            145.0   \n",
      "247  Sub-Saharan Africa      Eastern Africa          2.0            202.0   \n",
      "248  Sub-Saharan Africa      Eastern Africa          2.0            202.0   \n",
      "\n",
      "     intermediate-region-code  \n",
      "0                         NaN  \n",
      "1                         NaN  \n",
      "2                         NaN  \n",
      "3                         NaN  \n",
      "4                         NaN  \n",
      "..                        ...  \n",
      "244                       NaN  \n",
      "245                       NaN  \n",
      "246                       NaN  \n",
      "247                      14.0  \n",
      "248                      14.0  \n",
      "\n",
      "[249 rows x 11 columns]\n"
     ]
    },
    {
     "data": {
      "text/plain": [
       "array([142., 150., 150.,   2.,   9.])"
      ]
     },
     "execution_count": 122,
     "metadata": {},
     "output_type": "execute_result"
    }
   ],
   "source": [
    "country = pd.read_csv('country_full.csv')\n",
    "print(country)\n",
    "country['region-code'].iloc[0:5].to_numpy()"
   ]
  },
  {
   "cell_type": "code",
   "execution_count": 123,
   "id": "402f1de0-a3b4-4b02-b69d-6058b09264fe",
   "metadata": {},
   "outputs": [
    {
     "data": {
      "text/plain": [
       "array([[142.,  34.,  nan],\n",
       "       [150., 154.,  nan],\n",
       "       [150.,  39.,  nan],\n",
       "       [  2.,  15.,  nan],\n",
       "       [  9.,  61.,  nan]])"
      ]
     },
     "execution_count": 123,
     "metadata": {},
     "output_type": "execute_result"
    }
   ],
   "source": [
    "country.iloc[0:5, 8:11].to_numpy() "
   ]
  },
  {
   "cell_type": "code",
   "execution_count": 159,
   "id": "157c458e-7887-434e-a02f-aec938159381",
   "metadata": {},
   "outputs": [],
   "source": [
    "a = country['region-code'].iloc[0:5]"
   ]
  },
  {
   "cell_type": "code",
   "execution_count": 125,
   "id": "9fa37836-a21a-44dc-b15d-9d66f35ec6d7",
   "metadata": {},
   "outputs": [
    {
     "data": {
      "text/plain": [
       "[142.0, 150.0, 150.0, 2.0, 9.0]"
      ]
     },
     "execution_count": 125,
     "metadata": {},
     "output_type": "execute_result"
    }
   ],
   "source": [
    "a.to_list()"
   ]
  },
  {
   "cell_type": "code",
   "execution_count": 158,
   "id": "e52832b4-95eb-48f3-a2f1-1907d4cf452c",
   "metadata": {},
   "outputs": [
    {
     "data": {
      "text/plain": [
       "[[142.0, 34.0, nan],\n",
       " [150.0, 154.0, nan],\n",
       " [150.0, 39.0, nan],\n",
       " [2.0, 15.0, nan],\n",
       " [9.0, 61.0, nan]]"
      ]
     },
     "execution_count": 158,
     "metadata": {},
     "output_type": "execute_result"
    }
   ],
   "source": [
    "country.iloc[0:5, 8:11].to_numpy().tolist()"
   ]
  },
  {
   "cell_type": "markdown",
   "id": "c5fa7794-9d9c-4525-97dd-d9615e7abcbe",
   "metadata": {},
   "source": [
    "Exercise 5: Read the currency.csv file, select a series as well as a dataframe and convert them to the array and to the list "
   ]
  },
  {
   "cell_type": "code",
   "execution_count": 139,
   "id": "6784d7ab-97ed-495e-a37a-6d3f4d23c36a",
   "metadata": {},
   "outputs": [
    {
     "data": {
      "text/html": [
       "<div>\n",
       "<style scoped>\n",
       "    .dataframe tbody tr th:only-of-type {\n",
       "        vertical-align: middle;\n",
       "    }\n",
       "\n",
       "    .dataframe tbody tr th {\n",
       "        vertical-align: top;\n",
       "    }\n",
       "\n",
       "    .dataframe thead th {\n",
       "        text-align: right;\n",
       "    }\n",
       "</style>\n",
       "<table border=\"1\" class=\"dataframe\">\n",
       "  <thead>\n",
       "    <tr style=\"text-align: right;\">\n",
       "      <th></th>\n",
       "      <th>Code</th>\n",
       "      <th>Symbol</th>\n",
       "      <th>Name</th>\n",
       "    </tr>\n",
       "  </thead>\n",
       "  <tbody>\n",
       "    <tr>\n",
       "      <th>0</th>\n",
       "      <td>AED</td>\n",
       "      <td>د.إ</td>\n",
       "      <td>United Arab Emirates d</td>\n",
       "    </tr>\n",
       "    <tr>\n",
       "      <th>1</th>\n",
       "      <td>AFN</td>\n",
       "      <td>؋</td>\n",
       "      <td>Afghan afghani</td>\n",
       "    </tr>\n",
       "    <tr>\n",
       "      <th>2</th>\n",
       "      <td>ALL</td>\n",
       "      <td>L</td>\n",
       "      <td>Albanian lek</td>\n",
       "    </tr>\n",
       "    <tr>\n",
       "      <th>3</th>\n",
       "      <td>AMD</td>\n",
       "      <td>AMD</td>\n",
       "      <td>Armenian dram</td>\n",
       "    </tr>\n",
       "    <tr>\n",
       "      <th>4</th>\n",
       "      <td>ANG</td>\n",
       "      <td>ƒ</td>\n",
       "      <td>Netherlands Antillean gu</td>\n",
       "    </tr>\n",
       "    <tr>\n",
       "      <th>...</th>\n",
       "      <td>...</td>\n",
       "      <td>...</td>\n",
       "      <td>...</td>\n",
       "    </tr>\n",
       "    <tr>\n",
       "      <th>158</th>\n",
       "      <td>XOF</td>\n",
       "      <td>CFA</td>\n",
       "      <td>West African CFA franc</td>\n",
       "    </tr>\n",
       "    <tr>\n",
       "      <th>159</th>\n",
       "      <td>XPF</td>\n",
       "      <td>Fr</td>\n",
       "      <td>CFP franc</td>\n",
       "    </tr>\n",
       "    <tr>\n",
       "      <th>160</th>\n",
       "      <td>YER</td>\n",
       "      <td>﷼</td>\n",
       "      <td>Yemeni rial</td>\n",
       "    </tr>\n",
       "    <tr>\n",
       "      <th>161</th>\n",
       "      <td>ZAR</td>\n",
       "      <td>R</td>\n",
       "      <td>South African rand</td>\n",
       "    </tr>\n",
       "    <tr>\n",
       "      <th>162</th>\n",
       "      <td>ZMW</td>\n",
       "      <td>ZK</td>\n",
       "      <td>Zambian kwacha</td>\n",
       "    </tr>\n",
       "  </tbody>\n",
       "</table>\n",
       "<p>163 rows × 3 columns</p>\n",
       "</div>"
      ],
      "text/plain": [
       "    Code Symbol                      Name\n",
       "0    AED    د.إ    United Arab Emirates d\n",
       "1    AFN      ؋            Afghan afghani\n",
       "2    ALL      L              Albanian lek\n",
       "3    AMD    AMD             Armenian dram\n",
       "4    ANG      ƒ  Netherlands Antillean gu\n",
       "..   ...    ...                       ...\n",
       "158  XOF    CFA    West African CFA franc\n",
       "159  XPF     Fr                 CFP franc\n",
       "160  YER      ﷼               Yemeni rial\n",
       "161  ZAR      R        South African rand\n",
       "162  ZMW     ZK            Zambian kwacha\n",
       "\n",
       "[163 rows x 3 columns]"
      ]
     },
     "execution_count": 139,
     "metadata": {},
     "output_type": "execute_result"
    }
   ],
   "source": [
    "currency = pd.read_csv('currency.csv')\n",
    "currency"
   ]
  },
  {
   "cell_type": "code",
   "execution_count": 181,
   "id": "15001426-58d3-4f54-955f-8d5c62788f4d",
   "metadata": {},
   "outputs": [
    {
     "data": {
      "text/plain": [
       "[['AED', 'د.إ'], ['AFN', '؋'], ['ALL', 'L'], ['AMD', 'AMD'], ['ANG', 'ƒ']]"
      ]
     },
     "execution_count": 181,
     "metadata": {},
     "output_type": "execute_result"
    }
   ],
   "source": [
    "ser = currency['Symbol'].iloc[0:3]\n",
    "\n",
    "currency.iloc[0:5, :2].to_numpy().tolist()\n",
    "\n"
   ]
  },
  {
   "cell_type": "code",
   "execution_count": null,
   "id": "f2131744-8da3-4789-a716-b72d5b768c9f",
   "metadata": {},
   "outputs": [],
   "source": [
    "h= pd.Series(np.array([1,7,9]))\n",
    "print(h)"
   ]
  },
  {
   "cell_type": "code",
   "execution_count": null,
   "id": "33af6d65-de6a-4d9b-ac4e-61e67520e5d2",
   "metadata": {},
   "outputs": [],
   "source": [
    "h.index = ['a', 'b', 'c']\n",
    "print(h)"
   ]
  },
  {
   "cell_type": "code",
   "execution_count": null,
   "id": "6099947c-ec4c-47ba-8824-9fc61d60a66d",
   "metadata": {},
   "outputs": [],
   "source": [
    "States = pd.read_csv('states_by_country_code.csv')\n",
    "print(States)"
   ]
  },
  {
   "cell_type": "code",
   "execution_count": null,
   "id": "6efce0ed-eb67-423b-ab07-3c96bb04af7b",
   "metadata": {},
   "outputs": [],
   "source": [
    "States = States.set_index('State Code')\n",
    "print(States)"
   ]
  },
  {
   "cell_type": "code",
   "execution_count": null,
   "id": "6be82bb0-754d-402b-8efa-5371719bbf81",
   "metadata": {
    "tags": []
   },
   "outputs": [],
   "source": [
    "h.reset_index(drop=True)"
   ]
  },
  {
   "cell_type": "code",
   "execution_count": null,
   "id": "962be8cc-1dbd-448f-b617-2673f78846dc",
   "metadata": {},
   "outputs": [],
   "source": [
    "States = States.reset_index()\n",
    "States"
   ]
  },
  {
   "cell_type": "code",
   "execution_count": null,
   "id": "0fb14213-2c5f-4a28-9918-02069d2fb589",
   "metadata": {},
   "outputs": [],
   "source": [
    "States.sort_values('State Name')"
   ]
  },
  {
   "cell_type": "code",
   "execution_count": null,
   "id": "7d70192c-9de0-400d-a4da-9fd5a397984a",
   "metadata": {},
   "outputs": [],
   "source": [
    "States.sort_values('State Name', ascending=False)"
   ]
  },
  {
   "cell_type": "code",
   "execution_count": null,
   "id": "94870aee-57f8-43fd-97b4-befd7fdd4c9d",
   "metadata": {
    "tags": []
   },
   "outputs": [],
   "source": [
    "###plotting"
   ]
  },
  {
   "cell_type": "code",
   "execution_count": null,
   "id": "7823db94-12bd-4821-ba0f-9eead3dff44b",
   "metadata": {},
   "outputs": [],
   "source": [
    "country = pd.read_csv('country_full.csv')\n",
    "print(country)"
   ]
  },
  {
   "cell_type": "code",
   "execution_count": null,
   "id": "2eae3a6b-b740-48bb-a424-579342c5abe8",
   "metadata": {},
   "outputs": [],
   "source": [
    "country[['country-code', 'region-code']].hist();"
   ]
  },
  {
   "cell_type": "markdown",
   "id": "5cbd034a-3607-4919-a3a2-96eea4497015",
   "metadata": {},
   "source": [
    "Try it on 2nd row and all the columns"
   ]
  },
  {
   "cell_type": "code",
   "execution_count": null,
   "id": "ce1d9154-183a-4100-8813-3d819a5ba0cd",
   "metadata": {},
   "outputs": [],
   "source": [
    "country['country-code'].plot();"
   ]
  },
  {
   "cell_type": "code",
   "execution_count": null,
   "id": "2c7046ab-cf99-4187-87ee-32a4f3697e8e",
   "metadata": {},
   "outputs": [],
   "source": [
    "country.set_index('name')['country-code'].plot();"
   ]
  },
  {
   "cell_type": "code",
   "execution_count": null,
   "id": "e25b8b85-0811-4dfd-91af-235911b6a39e",
   "metadata": {},
   "outputs": [],
   "source": [
    "country.plot.scatter(x='country-code', y='region-code');"
   ]
  },
  {
   "cell_type": "markdown",
   "id": "3f615d81-7c38-4cc8-84c6-c3622f5c6596",
   "metadata": {},
   "source": [
    "Exercise 6: Read the climate.csv file to a variable named 'climate', generate a line plot from 'Temperature (Celsius)', in the next step change the index to Country and in the 3rd step create a plot with all 3 variables. (put the title and axes labels)"
   ]
  },
  {
   "cell_type": "code",
   "execution_count": null,
   "id": "69f5fa69-bbd6-4e0a-a99f-b7885c708cd4",
   "metadata": {},
   "outputs": [],
   "source": [
    "###Operators"
   ]
  },
  {
   "cell_type": "code",
   "execution_count": null,
   "id": "1c3efb31-9670-4ace-a19d-72f8781c12b2",
   "metadata": {},
   "outputs": [],
   "source": [
    "climate = pd.read_csv('climate.csv')\n",
    "print(climate)"
   ]
  },
  {
   "cell_type": "code",
   "execution_count": null,
   "id": "d3a20dcf-8068-4156-844d-fd5dd58db7aa",
   "metadata": {},
   "outputs": [],
   "source": [
    "climate['Temperature (Celsius)'].min()"
   ]
  },
  {
   "cell_type": "code",
   "execution_count": null,
   "id": "7803d011-c158-41dd-9584-0027ef08b516",
   "metadata": {},
   "outputs": [],
   "source": [
    "climate['Temperature (Celsius)'].max()"
   ]
  },
  {
   "cell_type": "code",
   "execution_count": null,
   "id": "86130653-77e6-47e4-9641-21256b5cfa2d",
   "metadata": {},
   "outputs": [],
   "source": [
    "climate['Temperature (Celsius)'].mean()"
   ]
  },
  {
   "cell_type": "code",
   "execution_count": null,
   "id": "a21ceabd-46cf-41ef-a6b5-91401be6c342",
   "metadata": {},
   "outputs": [],
   "source": [
    "climate[['Temperature (Celsius)','Humidity (%)']].mean()"
   ]
  },
  {
   "cell_type": "code",
   "execution_count": null,
   "id": "39b75878-8726-460c-a00e-7805978e7464",
   "metadata": {},
   "outputs": [],
   "source": [
    "climate[['Temperature (Celsius)','Humidity (%)']]-10"
   ]
  },
  {
   "cell_type": "code",
   "execution_count": null,
   "id": "e6e6ac3d-3274-4c8b-b629-c5758969d263",
   "metadata": {},
   "outputs": [],
   "source": [
    "climate['df'] = climate['Temperature (Celsius)'] - climate['Humidity (%)']\n",
    "print(climate)"
   ]
  },
  {
   "cell_type": "code",
   "execution_count": null,
   "id": "b66903c7-77cc-4adb-a211-25b09f455c5f",
   "metadata": {},
   "outputs": [],
   "source": [
    "climate.set_index('Date')['df'].plot();"
   ]
  },
  {
   "cell_type": "markdown",
   "id": "af412ce5-b81f-427a-9f89-e45a7fd8ac74",
   "metadata": {},
   "source": [
    "Exercise 7: create a column as the sum of the wind speed and humidity and create a scatter plot between the new column and the temperature"
   ]
  },
  {
   "cell_type": "code",
   "execution_count": null,
   "id": "f7e89c16-a2fa-482b-a977-4c07888d7b31",
   "metadata": {},
   "outputs": [],
   "source": [
    "climate['sum'] = climate['Wind Speed (km/h)'] + climate['Humidity (%)']\n",
    "print(climate)"
   ]
  },
  {
   "cell_type": "code",
   "execution_count": null,
   "id": "47b803d3-9cf3-4315-96e3-0dae4d31a12b",
   "metadata": {},
   "outputs": [],
   "source": [
    "climate.plot.scatter(x='sum', y='Temperature (Celsius)');"
   ]
  },
  {
   "cell_type": "markdown",
   "id": "f90905ac-ab80-4fc2-97d7-da02af67fe93",
   "metadata": {},
   "source": [
    "Exercise 8: Add a column named 'rain' with an duplicated value over all rows"
   ]
  },
  {
   "cell_type": "code",
   "execution_count": null,
   "id": "472af1e2-5677-40a3-bd3a-f70028919924",
   "metadata": {},
   "outputs": [],
   "source": [
    "climate = climate.drop(['sum'], axis=1)\n",
    "climate"
   ]
  },
  {
   "cell_type": "code",
   "execution_count": null,
   "id": "1005a9d0-0b80-4155-b434-2cb92dbd8ac0",
   "metadata": {},
   "outputs": [],
   "source": [
    "climate[climate['Date'] > 2023-5-3]"
   ]
  },
  {
   "cell_type": "markdown",
   "id": "a5cbe3fc-9caf-4300-be40-e7feaa103497",
   "metadata": {},
   "source": [
    "Reference: https://jupyter.org https://the-turing-way.netlify.app/communication/binder/zero-to-binder.html https://docs.python.org https://wsform.com/knowledgebase/sample-csv-files/ https://geobgu.xyz/py/"
   ]
  }
 ],
 "metadata": {
  "kernelspec": {
   "display_name": "Python 3 (ipykernel)",
   "language": "python",
   "name": "python3"
  },
  "language_info": {
   "codemirror_mode": {
    "name": "ipython",
    "version": 3
   },
   "file_extension": ".py",
   "mimetype": "text/x-python",
   "name": "python",
   "nbconvert_exporter": "python",
   "pygments_lexer": "ipython3",
   "version": "3.10.10"
  }
 },
 "nbformat": 4,
 "nbformat_minor": 5
}
