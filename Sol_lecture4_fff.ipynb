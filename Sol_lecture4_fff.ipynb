{
 "cells": [
  {
   "cell_type": "code",
   "execution_count": 1,
   "id": "fd179b16-cbbf-47fc-bfb4-064db3225e55",
   "metadata": {
    "tags": []
   },
   "outputs": [],
   "source": [
    "import numpy as np"
   ]
  },
  {
   "cell_type": "code",
   "execution_count": 2,
   "id": "d46e9a20-b9b9-4b5f-9924-6df5983db88d",
   "metadata": {},
   "outputs": [
    {
     "name": "stdout",
     "output_type": "stream",
     "text": [
      "[ 5  4 -7 11]\n"
     ]
    }
   ],
   "source": [
    "x = np.array([5, 4, -7, 11])\n",
    "print(x)"
   ]
  },
  {
   "cell_type": "code",
   "execution_count": 3,
   "id": "41dcf9a3-274b-4cdc-a954-eb10b9686bc2",
   "metadata": {},
   "outputs": [
    {
     "data": {
      "text/plain": [
       "13"
      ]
     },
     "execution_count": 3,
     "metadata": {},
     "output_type": "execute_result"
    }
   ],
   "source": [
    "np.sum(x)"
   ]
  },
  {
   "cell_type": "code",
   "execution_count": 4,
   "id": "498cf5ab-7853-4352-8a52-4335ffea7453",
   "metadata": {},
   "outputs": [
    {
     "name": "stdout",
     "output_type": "stream",
     "text": [
      "[[4 5 0]\n",
      " [3 7 9]\n",
      " [2 1 2]]\n"
     ]
    }
   ],
   "source": [
    "y = np.array([[4, 5, 0], [3, 7, 9], [2, 1, 2]])\n",
    "print(y)"
   ]
  },
  {
   "cell_type": "code",
   "execution_count": 5,
   "id": "341cc8e4-a7bc-44af-b455-187f5dcb68d2",
   "metadata": {},
   "outputs": [
    {
     "data": {
      "text/plain": [
       "array([ 9, 13, 11])"
      ]
     },
     "execution_count": 5,
     "metadata": {},
     "output_type": "execute_result"
    }
   ],
   "source": [
    "np.sum(y, axis=0)"
   ]
  },
  {
   "cell_type": "code",
   "execution_count": 6,
   "id": "04445b0a-40a1-4a3e-8268-7a2c4b7618ff",
   "metadata": {},
   "outputs": [
    {
     "data": {
      "text/plain": [
       "array([ 9, 19,  5])"
      ]
     },
     "execution_count": 6,
     "metadata": {},
     "output_type": "execute_result"
    }
   ],
   "source": [
    "np.sum(y, axis=1)"
   ]
  },
  {
   "cell_type": "code",
   "execution_count": 7,
   "id": "a67fee5a-570a-4828-b99c-0dea61b0d52f",
   "metadata": {},
   "outputs": [
    {
     "name": "stdout",
     "output_type": "stream",
     "text": [
      "[[[ 1  2  3]\n",
      "  [ 4  5  6]\n",
      "  [ 7  8  9]]\n",
      "\n",
      " [[10 11 12]\n",
      "  [13 14 15]\n",
      "  [16 17 18]]]\n"
     ]
    }
   ],
   "source": [
    "z = np.array([[[1,2,3], [4,5,6], [7,8,9]], [[10,11,12], [13,14,15], [16,17,18]]])\n",
    "print(z)"
   ]
  },
  {
   "cell_type": "code",
   "execution_count": 8,
   "id": "cdf61e4d-bfff-48e3-bad4-2c99051d2cfa",
   "metadata": {},
   "outputs": [
    {
     "data": {
      "text/plain": [
       "array([[11, 13, 15],\n",
       "       [17, 19, 21],\n",
       "       [23, 25, 27]])"
      ]
     },
     "execution_count": 8,
     "metadata": {},
     "output_type": "execute_result"
    }
   ],
   "source": [
    "##row-column\n",
    "np.sum(z, axis=0)"
   ]
  },
  {
   "cell_type": "code",
   "execution_count": 9,
   "id": "83774387-2015-4881-a6c4-12896eba7567",
   "metadata": {},
   "outputs": [
    {
     "data": {
      "text/plain": [
       "array([[12, 15, 18],\n",
       "       [39, 42, 45]])"
      ]
     },
     "execution_count": 9,
     "metadata": {},
     "output_type": "execute_result"
    }
   ],
   "source": [
    "##column-layer\n",
    "np.sum(z, axis=1)"
   ]
  },
  {
   "cell_type": "code",
   "execution_count": 10,
   "id": "03bee3d0-7029-4c61-88ca-aa30e4a9b08e",
   "metadata": {},
   "outputs": [
    {
     "data": {
      "text/plain": [
       "array([[ 6, 15, 24],\n",
       "       [33, 42, 51]])"
      ]
     },
     "execution_count": 10,
     "metadata": {},
     "output_type": "execute_result"
    }
   ],
   "source": [
    "##row-layer\n",
    "np.sum(z, axis=2)"
   ]
  },
  {
   "cell_type": "code",
   "execution_count": 11,
   "id": "ce117f7b-0e9a-4f27-bbef-f3773c70eeb2",
   "metadata": {},
   "outputs": [
    {
     "data": {
      "text/plain": [
       "array([[ 6, 33],\n",
       "       [15, 42],\n",
       "       [24, 51]])"
      ]
     },
     "execution_count": 11,
     "metadata": {},
     "output_type": "execute_result"
    }
   ],
   "source": [
    "f=np.sum(z, axis=2)\n",
    "np.transpose(f)"
   ]
  },
  {
   "cell_type": "markdown",
   "id": "df62c751-e2bf-47fe-8363-a4ab26e369c4",
   "metadata": {},
   "source": [
    "Exercise1: Calculate the mean of all column in each layer from array z."
   ]
  },
  {
   "cell_type": "code",
   "execution_count": 12,
   "id": "5f43c973-e49e-410d-b817-f1c5dc9675fc",
   "metadata": {},
   "outputs": [
    {
     "data": {
      "text/plain": [
       "array([[ 4.,  5.,  6.],\n",
       "       [13., 14., 15.]])"
      ]
     },
     "execution_count": 16,
     "metadata": {},
     "output_type": "execute_result"
    }
   ],
   "source": [
    "np.mean(z, axis = 1)"
   ]
  },
  {
   "cell_type": "code",
   "execution_count": 18,
   "id": "c0a255aa-ac53-4c89-8513-8f7619c15125",
   "metadata": {},
   "outputs": [],
   "source": [
    "##reading the data from the file, saving the data to the file"
   ]
  },
  {
   "cell_type": "code",
   "execution_count": 19,
   "id": "310de3a6-2034-43cb-af44-89adcd5fd47a",
   "metadata": {},
   "outputs": [
    {
     "name": "stdout",
     "output_type": "stream",
     "text": [
      "[[nan nan nan]\n",
      " [ 1. 25.  3.]\n",
      " [ 5. 30.  4.]\n",
      " [ 6. 28.  9.]]\n"
     ]
    }
   ],
   "source": [
    "b = np.genfromtxt('sample.txt', delimiter=';')\n",
    "print(b)                  "
   ]
  },
  {
   "cell_type": "code",
   "execution_count": 24,
   "id": "20d9825b-9c69-4605-972c-8754449eda20",
   "metadata": {},
   "outputs": [
    {
     "name": "stdout",
     "output_type": "stream",
     "text": [
      "[[ 1. 25.  3.]\n",
      " [ 5. 30.  4.]\n",
      " [ 6. 28.  9.]]\n"
     ]
    }
   ],
   "source": [
    "b = np.genfromtxt('sample.txt', delimiter=';', skip_header=1)\n",
    "print(b)"
   ]
  },
  {
   "cell_type": "code",
   "execution_count": 27,
   "id": "2b9cc9f4-961e-4377-918d-71dc21f58a05",
   "metadata": {},
   "outputs": [],
   "source": [
    "np.savetxt(\"y.txt\", y, delimiter=\",\", header=\"name,id,region\")"
   ]
  },
  {
   "cell_type": "markdown",
   "id": "b8c1473c-2538-475d-a6d3-98b4f1273912",
   "metadata": {},
   "source": [
    "Exercise2: Create a 2D array and use the np.savetxt() function to save the data array to a text file named \"mydata.txt\" with a comma delimiter and a header line Col1,Col2,Col3,Col4"
   ]
  },
  {
   "cell_type": "code",
   "execution_count": 34,
   "id": "99904f7a-fc4f-45b1-80b3-a362819b3788",
   "metadata": {},
   "outputs": [],
   "source": [
    "Ex2 = np.array([[1, 2, 3], [1, 2, 3], [1,2,3]])\n",
    "np.savetxt('2DarrayTEST', Ex2, delimiter = \";\", header = \"num1, num2, nu3\")"
   ]
  },
  {
   "cell_type": "code",
   "execution_count": 35,
   "id": "7794466a-75bd-4225-a80e-8858cc8e1cfe",
   "metadata": {},
   "outputs": [
    {
     "name": "stdout",
     "output_type": "stream",
     "text": [
      "Data saved to mydata.txt file.\n"
     ]
    }
   ],
   "source": [
    "data = np.array([[1, 2, 3, 4],\n",
    "                 [5, 6, 7, 8],\n",
    "                 [9, 10, 11, 12]])\n",
    "\n",
    "np.savetxt(\"mydata.txt\", data, delimiter=\",\", header=\"Col1,Col2,Col3,Col4\", fmt=\"%.3e\")\n",
    "\n",
    "print(\"Data saved to mydata.txt file.\")"
   ]
  },
  {
   "cell_type": "code",
   "execution_count": null,
   "id": "3ddd8718-a1cf-4d02-8426-03b9f7119e2c",
   "metadata": {},
   "outputs": [],
   "source": [
    "## ploting an array"
   ]
  },
  {
   "cell_type": "code",
   "execution_count": 36,
   "id": "da549ca5-c2f3-49c1-88a2-bc0aaf4644e9",
   "metadata": {},
   "outputs": [],
   "source": [
    "import matplotlib.pyplot as plt"
   ]
  },
  {
   "cell_type": "code",
   "execution_count": 37,
   "id": "d88ca39a-be42-45f8-82c3-30120c15844c",
   "metadata": {},
   "outputs": [
    {
     "data": {
      "text/plain": [
       "array([4, 5, 0, 3, 7, 9, 2, 1, 2])"
      ]
     },
     "execution_count": 37,
     "metadata": {},
     "output_type": "execute_result"
    }
   ],
   "source": [
    "h = y.flatten()\n",
    "h"
   ]
  },
  {
   "cell_type": "code",
   "execution_count": 39,
   "id": "985f715a-5895-4ca3-936d-1372bde4be2f",
   "metadata": {},
   "outputs": [
    {
     "data": {
      "image/png": "[encoded data removed]",
      "text/plain": [
       "<Figure size 640x480 with 1 Axes>"
      ]
     },
     "metadata": {},
     "output_type": "display_data"
    }
   ],
   "source": [
    "plt.hist(h);\n"
   ]
  },
  {
   "cell_type": "code",
   "execution_count": 41,
   "id": "6f7e315a-e639-4358-9439-ab997746323d",
   "metadata": {},
   "outputs": [
    {
     "data": {
      "text/plain": [
       "array([[4, 5, 0],\n",
       "       [3, 7, 9],\n",
       "       [2, 1, 2]])"
      ]
     },
     "execution_count": 41,
     "metadata": {},
     "output_type": "execute_result"
    }
   ],
   "source": [
    "y"
   ]
  },
  {
   "cell_type": "code",
   "execution_count": 40,
   "id": "fe5b6e05-aad7-4950-9f3b-b8aacecba63d",
   "metadata": {},
   "outputs": [
    {
     "data": {
      "image/png": "[encoded data removed]",
      "text/plain": [
       "<Figure size 640x480 with 1 Axes>"
      ]
     },
     "metadata": {},
     "output_type": "display_data"
    }
   ],
   "source": [
    "plt.plot(y[1, :]);"
   ]
  },
  {
   "cell_type": "code",
   "execution_count": 42,
   "id": "ebd9ec22-93a9-4207-9b6d-1796a2ceba0f",
   "metadata": {},
   "outputs": [
    {
     "data": {
      "image/png": "[encoded data removed]",
      "text/plain": [
       "<Figure size 640x480 with 1 Axes>"
      ]
     },
     "metadata": {},
     "output_type": "display_data"
    }
   ],
   "source": [
    "plt.plot(y[:, 1]);"
   ]
  },
  {
   "cell_type": "code",
   "execution_count": 45,
   "id": "bc816d40-dea9-4018-ae60-8a3f4cdf8c65",
   "metadata": {},
   "outputs": [
    {
     "data": {
      "text/plain": [
       "array([[4, 5, 0],\n",
       "       [3, 7, 9],\n",
       "       [2, 1, 2]])"
      ]
     },
     "execution_count": 45,
     "metadata": {},
     "output_type": "execute_result"
    }
   ],
   "source": [
    "y"
   ]
  },
  {
   "cell_type": "code",
   "execution_count": 44,
   "id": "8f80d4d1-3dec-4dca-925d-06b878ceea92",
   "metadata": {},
   "outputs": [
    {
     "data": {
      "image/png": "[encoded data removed]",
      "text/plain": [
       "<Figure size 640x480 with 1 Axes>"
      ]
     },
     "metadata": {},
     "output_type": "display_data"
    }
   ],
   "source": [
    "# To plo te rows: type array.T\n",
    "plt.plot(y.T);"
   ]
  },
  {
   "cell_type": "code",
   "execution_count": 62,
   "id": "afc6cfe0-b4a9-4d4c-8cf3-8d2f505483f2",
   "metadata": {},
   "outputs": [
    {
     "data": {
      "text/plain": [
       "array([[4, 5, 0],\n",
       "       [3, 7, 9],\n",
       "       [2, 1, 2]])"
      ]
     },
     "execution_count": 62,
     "metadata": {},
     "output_type": "execute_result"
    }
   ],
   "source": [
    "y"
   ]
  },
  {
   "cell_type": "code",
   "execution_count": 66,
   "id": "c2155750-ec6a-4598-8e70-e5d11a3852b7",
   "metadata": {},
   "outputs": [
    {
     "data": {
      "image/png": "[encoded data removed]",
      "text/plain": [
       "<Figure size 640x480 with 1 Axes>"
      ]
     },
     "metadata": {},
     "output_type": "display_data"
    }
   ],
   "source": [
    "plt.plot(y[:,0], color = 'skyblue', label = 'row1')\n",
    "plt.plot(y[:,1], color = 'cornflowerblue', label = 'row2')\n",
    "plt.plot(y[:,2], color = 'darkblue', label = 'row3')\n",
    "plt.legend();"
   ]
  },
  {
   "cell_type": "code",
   "execution_count": 70,
   "id": "9e336f81-9530-47d1-9e84-53d835d0e07f",
   "metadata": {},
   "outputs": [
    {
     "data": {
      "text/plain": [
       "<matplotlib.colorbar.Colorbar at 0x7efd45a26ec0>"
      ]
     },
     "execution_count": 70,
     "metadata": {},
     "output_type": "execute_result"
    },
    {
     "data": {
      "image/png": "[encoded data removed]",
      "text/plain": [
       "<Figure size 640x480 with 2 Axes>"
      ]
     },
     "metadata": {},
     "output_type": "display_data"
    }
   ],
   "source": [
    "plt.imshow(y);\n",
    "plt.colorbar()"
   ]
  },
  {
   "cell_type": "code",
   "execution_count": null,
   "id": "ac961e9b-7b7c-4615-b609-7a31dd64ce13",
   "metadata": {},
   "outputs": [],
   "source": [
    "##practice with plotting on different arrays"
   ]
  },
  {
   "cell_type": "code",
   "execution_count": 71,
   "id": "0ef3ab1c-6872-42f7-90f3-6e0c5f33f6c8",
   "metadata": {},
   "outputs": [
    {
     "data": {
      "image/png": "[encoded data removed]",
      "text/plain": [
       "<Figure size 640x480 with 1 Axes>"
      ]
     },
     "metadata": {},
     "output_type": "display_data"
    }
   ],
   "source": [
    "data = np.array([1, 2, 3, 4, 5, 6, 7, 8, 9, 10])\n",
    "\n",
    "plt.hist(data, bins=[0,2,4,6,8,10])\n",
    "plt.title('My Histogram')\n",
    "plt.xlabel('Interval')\n",
    "plt.ylabel('Frequency')\n",
    "plt.show()\n"
   ]
  },
  {
   "cell_type": "markdown",
   "id": "23c3fa1b-9f3a-41c4-8308-14719664307a",
   "metadata": {},
   "source": [
    "Exercise3: Given an 2D array of numbers, plot a graph that displays the sum of each element in the column."
   ]
  },
  {
   "cell_type": "code",
   "execution_count": 102,
   "id": "d73a644b-af21-4677-8e52-d4ca8bcf9614",
   "metadata": {},
   "outputs": [
    {
     "name": "stdout",
     "output_type": "stream",
     "text": [
      "[6 7 8]\n"
     ]
    },
    {
     "data": {
      "image/png": "[encoded data removed]",
      "text/plain": [
       "<Figure size 640x480 with 1 Axes>"
      ]
     },
     "metadata": {},
     "output_type": "display_data"
    }
   ],
   "source": [
    "EX3 = [[1, 2, 3], [2, 2, 2], [3, 3, 3]]\n",
    "sumCol = np.sum(EX3, axis=0)\n",
    "print(sumCol)\n",
    "plt.plot(sumCol, color = \"darkred\")\n",
    "plt.title('Sum of array elements');\n",
    "plt.ylabel('Value');\n",
    "plt.xlabel('Index');\n"
   ]
  },
  {
   "cell_type": "code",
   "execution_count": 76,
   "id": "95466858-fe30-461d-84dd-371d37a3cbf2",
   "metadata": {},
   "outputs": [
    {
     "name": "stdout",
     "output_type": "stream",
     "text": [
      "[12 15 18]\n"
     ]
    },
    {
     "data": {
      "image/png": "[encoded data removed]",
      "text/plain": [
       "<Figure size 640x480 with 1 Axes>"
      ]
     },
     "metadata": {},
     "output_type": "display_data"
    }
   ],
   "source": [
    "arr = [[1,2,3],\n",
    "       [4,5,6],\n",
    "       [7,8,9]]\n",
    "column_sums= np.sum(arr, axis=0)\n",
    "print(column_sums)\n",
    "plt.plot(column_sums)\n",
    "plt.title('Sum of elements in each column')\n",
    "plt.xlabel('column')\n",
    "plt.ylabel('Sum of elements')\n",
    "plt.show()"
   ]
  },
  {
   "cell_type": "code",
   "execution_count": 103,
   "id": "981de3f5-afff-459e-b4a6-921cd3ac8b52",
   "metadata": {},
   "outputs": [],
   "source": [
    "## tables (pandas)"
   ]
  },
  {
   "cell_type": "code",
   "execution_count": 104,
   "id": "54b117ca-57ad-4100-ac59-256bcf74b927",
   "metadata": {},
   "outputs": [],
   "source": [
    "import pandas as pd"
   ]
  },
  {
   "cell_type": "code",
   "execution_count": 108,
   "id": "33ede03b-0193-46ac-923e-082bcd0a76f0",
   "metadata": {},
   "outputs": [
    {
     "name": "stdout",
     "output_type": "stream",
     "text": [
      "0    a\n",
      "1    b\n",
      "2    c\n",
      "dtype: object\n"
     ]
    }
   ],
   "source": [
    "g = pd.Series(['a', 'b', 'c'])\n",
    "print(g)"
   ]
  },
  {
   "cell_type": "code",
   "execution_count": 114,
   "id": "848c8616-181f-43c5-a427-d005f3161899",
   "metadata": {},
   "outputs": [
    {
     "name": "stdout",
     "output_type": "stream",
     "text": [
      "0    1\n",
      "1    7\n",
      "2    9\n",
      "dtype: int64\n"
     ]
    }
   ],
   "source": [
    "h= pd.Series(np.array([1,7,9]))\n",
    "print(h)"
   ]
  },
  {
   "cell_type": "code",
   "execution_count": 113,
   "id": "6dc05d08-8303-4ca0-bd1d-db40ec9c69d5",
   "metadata": {},
   "outputs": [
    {
     "data": {
      "text/plain": [
       "(4,)"
      ]
     },
     "execution_count": 113,
     "metadata": {},
     "output_type": "execute_result"
    }
   ],
   "source": [
    "h.shape"
   ]
  },
  {
   "cell_type": "markdown",
   "id": "11346c2e-d159-42c6-8059-ae5845433b67",
   "metadata": {},
   "source": [
    "Exercise4: create a table from an array of numbers and check for the shape."
   ]
  },
  {
   "cell_type": "code",
   "execution_count": 120,
   "id": "600552b8-1f5a-4f7b-9231-763029130acb",
   "metadata": {},
   "outputs": [
    {
     "data": {
      "text/plain": [
       "(5,)"
      ]
     },
     "execution_count": 120,
     "metadata": {},
     "output_type": "execute_result"
    }
   ],
   "source": [
    "EX4 = np.array([1, 2, 3, 4, 5])\n",
    "tableEX4 = pd.Series(EX4)\n",
    "tableEX4.shape"
   ]
  },
  {
   "cell_type": "code",
   "execution_count": null,
   "id": "ec121b41-843e-40b9-a31a-e6707abb6bc1",
   "metadata": {},
   "outputs": [],
   "source": [
    "t= pd.Series(np.array([3,5,7,8]))\n",
    "print(t)"
   ]
  },
  {
   "cell_type": "code",
   "execution_count": null,
   "id": "897f55d0-e7e0-4067-8c8d-3dfbcfc3e63b",
   "metadata": {},
   "outputs": [],
   "source": [
    "t.shape"
   ]
  },
  {
   "cell_type": "code",
   "execution_count": 122,
   "id": "f5216a85-f779-46ca-9bde-5f4e9e536127",
   "metadata": {},
   "outputs": [
    {
     "name": "stdout",
     "output_type": "stream",
     "text": [
      "0    7\n",
      "1    8\n",
      "2    9\n",
      "dtype: int64\n"
     ]
    }
   ],
   "source": [
    "i= pd.Series([7, 8, 9])\n",
    "print(i)"
   ]
  },
  {
   "cell_type": "code",
   "execution_count": 123,
   "id": "bd308e90-8909-430a-836b-9e23750658c7",
   "metadata": {},
   "outputs": [
    {
     "name": "stdout",
     "output_type": "stream",
     "text": [
      "  ID  value  condition\n",
      "0  a      1          7\n",
      "1  b      7          8\n",
      "2  c      9          9\n"
     ]
    }
   ],
   "source": [
    "dataframe_dict = {'ID': g, 'value': h, 'condition': i}\n",
    "dataframe = pd.DataFrame(dataframe_dict)\n",
    "print(dataframe)"
   ]
  },
  {
   "cell_type": "code",
   "execution_count": 124,
   "id": "3a891275-8cb3-4480-8090-f60bcd730b4a",
   "metadata": {},
   "outputs": [
    {
     "data": {
      "text/plain": [
       "RangeIndex(start=0, stop=3, step=1)"
      ]
     },
     "execution_count": 124,
     "metadata": {},
     "output_type": "execute_result"
    }
   ],
   "source": [
    "dataframe.index"
   ]
  },
  {
   "cell_type": "code",
   "execution_count": 125,
   "id": "e57b42f8-8f06-408f-82d0-e9cf938ee15f",
   "metadata": {},
   "outputs": [
    {
     "data": {
      "text/plain": [
       "Index(['ID', 'value', 'condition'], dtype='object')"
      ]
     },
     "execution_count": 125,
     "metadata": {},
     "output_type": "execute_result"
    }
   ],
   "source": [
    "dataframe.columns"
   ]
  },
  {
   "cell_type": "markdown",
   "id": "5def42d8-199f-4d72-a879-01206f637619",
   "metadata": {},
   "source": [
    "Exercise5:create a table (dataframe structure) from multiple series (including boolean and numiric) and check the shape."
   ]
  },
  {
   "cell_type": "code",
   "execution_count": 147,
   "id": "42338a40-b23b-472e-ade5-5e6b0cea9009",
   "metadata": {},
   "outputs": [
    {
     "name": "stdout",
     "output_type": "stream",
     "text": [
      "(3, 3)\n"
     ]
    },
    {
     "data": {
      "text/html": [
       "<div>\n",
       "<style scoped>\n",
       "    .dataframe tbody tr th:only-of-type {\n",
       "        vertical-align: middle;\n",
       "    }\n",
       "\n",
       "    .dataframe tbody tr th {\n",
       "        vertical-align: top;\n",
       "    }\n",
       "\n",
       "    .dataframe thead th {\n",
       "        text-align: right;\n",
       "    }\n",
       "</style>\n",
       "<table border=\"1\" class=\"dataframe\">\n",
       "  <thead>\n",
       "    <tr style=\"text-align: right;\">\n",
       "      <th></th>\n",
       "      <th>Boolian</th>\n",
       "      <th>String</th>\n",
       "      <th>Numiric</th>\n",
       "    </tr>\n",
       "  </thead>\n",
       "  <tbody>\n",
       "    <tr>\n",
       "      <th>0</th>\n",
       "      <td>True</td>\n",
       "      <td>lol</td>\n",
       "      <td>2</td>\n",
       "    </tr>\n",
       "    <tr>\n",
       "      <th>1</th>\n",
       "      <td>False</td>\n",
       "      <td>lel</td>\n",
       "      <td>20</td>\n",
       "    </tr>\n",
       "    <tr>\n",
       "      <th>2</th>\n",
       "      <td>True</td>\n",
       "      <td>soos</td>\n",
       "      <td>200</td>\n",
       "    </tr>\n",
       "  </tbody>\n",
       "</table>\n",
       "</div>"
      ],
      "text/plain": [
       "   Boolian String  Numiric\n",
       "0     True    lol        2\n",
       "1    False    lel       20\n",
       "2     True   soos      200"
      ]
     },
     "execution_count": 147,
     "metadata": {},
     "output_type": "execute_result"
    }
   ],
   "source": [
    "Ex5_a = pd.Series([True, False, True])\n",
    "Ex5_b = pd.Series(['lol', 'lel', 'soos'])\n",
    "Ex5_c = pd.Series([2, 20, 200])\n",
    "\n",
    "\n",
    "Ex5_df = pd.DataFrame({'Boolian': Ex5_a, 'String': Ex5_b, 'Numiric': Ex5_c})\n",
    "print(Ex5_df.shape)\n",
    "Ex5_df\n",
    "\n",
    "\n",
    "\n",
    "\n",
    "\n",
    "\n",
    "\n",
    "\n"
   ]
  },
  {
   "cell_type": "code",
   "execution_count": 144,
   "id": "0fb72724-79c9-4fd8-8041-dacfda18a585",
   "metadata": {},
   "outputs": [
    {
     "name": "stdout",
     "output_type": "stream",
     "text": [
      "(3, 3)\n"
     ]
    }
   ],
   "source": [
    "series1 = pd.Series([1, 2, 3])\n",
    "series2 = pd.Series([4, 5, 6])\n",
    "series3 = pd.Series([False, True, False])\n",
    "\n",
    "df_new = pd.DataFrame({'Val1': series1, 'Val2': series2, 'Val3': series3})\n",
    "\n",
    "print(df_new.shape)"
   ]
  },
  {
   "cell_type": "code",
   "execution_count": 150,
   "id": "efbd8e20-181e-471f-8212-cf7ae6ebc670",
   "metadata": {},
   "outputs": [
    {
     "name": "stdout",
     "output_type": "stream",
     "text": [
      "                  name alpha-2 alpha-3  country-code     iso_3166-2   region   \n",
      "0          Afghanistan      AF     AFG             4  ISO 3166-2:AF     Asia  \\\n",
      "1        Åland Islands      AX     ALA           248  ISO 3166-2:AX   Europe   \n",
      "2              Albania      AL     ALB             8  ISO 3166-2:AL   Europe   \n",
      "3              Algeria      DZ     DZA            12  ISO 3166-2:DZ   Africa   \n",
      "4       American Samoa      AS     ASM            16  ISO 3166-2:AS  Oceania   \n",
      "..                 ...     ...     ...           ...            ...      ...   \n",
      "244  Wallis and Futuna      WF     WLF           876  ISO 3166-2:WF  Oceania   \n",
      "245     Western Sahara      EH     ESH           732  ISO 3166-2:EH   Africa   \n",
      "246              Yemen      YE     YEM           887  ISO 3166-2:YE     Asia   \n",
      "247             Zambia      ZM     ZMB           894  ISO 3166-2:ZM   Africa   \n",
      "248           Zimbabwe      ZW     ZWE           716  ISO 3166-2:ZW   Africa   \n",
      "\n",
      "             sub-region intermediate-region  region-code  sub-region-code   \n",
      "0         Southern Asia                 NaN        142.0             34.0  \\\n",
      "1       Northern Europe                 NaN        150.0            154.0   \n",
      "2       Southern Europe                 NaN        150.0             39.0   \n",
      "3       Northern Africa                 NaN          2.0             15.0   \n",
      "4             Polynesia                 NaN          9.0             61.0   \n",
      "..                  ...                 ...          ...              ...   \n",
      "244           Polynesia                 NaN          9.0             61.0   \n",
      "245     Northern Africa                 NaN          2.0             15.0   \n",
      "246        Western Asia                 NaN        142.0            145.0   \n",
      "247  Sub-Saharan Africa      Eastern Africa          2.0            202.0   \n",
      "248  Sub-Saharan Africa      Eastern Africa          2.0            202.0   \n",
      "\n",
      "     intermediate-region-code  \n",
      "0                         NaN  \n",
      "1                         NaN  \n",
      "2                         NaN  \n",
      "3                         NaN  \n",
      "4                         NaN  \n",
      "..                        ...  \n",
      "244                       NaN  \n",
      "245                       NaN  \n",
      "246                       NaN  \n",
      "247                      14.0  \n",
      "248                      14.0  \n",
      "\n",
      "[249 rows x 11 columns]\n"
     ]
    }
   ],
   "source": [
    "country = pd.read_csv('country_full.csv')\n",
    "print(country)"
   ]
  },
  {
   "cell_type": "code",
   "execution_count": 151,
   "id": "dd885468-1bdd-4250-ae37-0ef1e0280d34",
   "metadata": {},
   "outputs": [
    {
     "data": {
      "text/plain": [
       "Index(['name', 'alpha-2', 'alpha-3', 'country-code', 'iso_3166-2', 'region',\n",
       "       'sub-region', 'intermediate-region', 'region-code', 'sub-region-code',\n",
       "       'intermediate-region-code'],\n",
       "      dtype='object')"
      ]
     },
     "execution_count": 151,
     "metadata": {},
     "output_type": "execute_result"
    }
   ],
   "source": [
    "country.columns"
   ]
  },
  {
   "cell_type": "code",
   "execution_count": 152,
   "id": "8e532f4e-d752-47b5-971b-de05aebe4327",
   "metadata": {},
   "outputs": [
    {
     "data": {
      "text/plain": [
       "RangeIndex(start=0, stop=249, step=1)"
      ]
     },
     "execution_count": 152,
     "metadata": {},
     "output_type": "execute_result"
    }
   ],
   "source": [
    "country.index"
   ]
  },
  {
   "cell_type": "code",
   "execution_count": 153,
   "id": "04da1fe4-5fcf-4809-a46a-13c443a89dd3",
   "metadata": {},
   "outputs": [
    {
     "data": {
      "text/plain": [
       "(249, 11)"
      ]
     },
     "execution_count": 153,
     "metadata": {},
     "output_type": "execute_result"
    }
   ],
   "source": [
    "country.shape"
   ]
  },
  {
   "cell_type": "code",
   "execution_count": 154,
   "id": "17ebe34d-4817-4fb9-9cf9-0f81d6a3acec",
   "metadata": {},
   "outputs": [
    {
     "data": {
      "text/plain": [
       "name                         object\n",
       "alpha-2                      object\n",
       "alpha-3                      object\n",
       "country-code                  int64\n",
       "iso_3166-2                   object\n",
       "region                       object\n",
       "sub-region                   object\n",
       "intermediate-region          object\n",
       "region-code                 float64\n",
       "sub-region-code             float64\n",
       "intermediate-region-code    float64\n",
       "dtype: object"
      ]
     },
     "execution_count": 154,
     "metadata": {},
     "output_type": "execute_result"
    }
   ],
   "source": [
    "country.dtypes"
   ]
  },
  {
   "cell_type": "code",
   "execution_count": 155,
   "id": "427030ed-ee1c-4564-abbb-e545b65a34c1",
   "metadata": {},
   "outputs": [
    {
     "data": {
      "text/html": [
       "<div>\n",
       "<style scoped>\n",
       "    .dataframe tbody tr th:only-of-type {\n",
       "        vertical-align: middle;\n",
       "    }\n",
       "\n",
       "    .dataframe tbody tr th {\n",
       "        vertical-align: top;\n",
       "    }\n",
       "\n",
       "    .dataframe thead th {\n",
       "        text-align: right;\n",
       "    }\n",
       "</style>\n",
       "<table border=\"1\" class=\"dataframe\">\n",
       "  <thead>\n",
       "    <tr style=\"text-align: right;\">\n",
       "      <th></th>\n",
       "      <th>name</th>\n",
       "      <th>alpha-2</th>\n",
       "      <th>alpha-3</th>\n",
       "      <th>country-code</th>\n",
       "      <th>iso_3166-2</th>\n",
       "      <th>REGION</th>\n",
       "      <th>sub-region</th>\n",
       "      <th>intermediate-region</th>\n",
       "      <th>region-code</th>\n",
       "      <th>sub-region-code</th>\n",
       "      <th>intermediate-region-code</th>\n",
       "    </tr>\n",
       "  </thead>\n",
       "  <tbody>\n",
       "    <tr>\n",
       "      <th>0</th>\n",
       "      <td>Afghanistan</td>\n",
       "      <td>AF</td>\n",
       "      <td>AFG</td>\n",
       "      <td>4</td>\n",
       "      <td>ISO 3166-2:AF</td>\n",
       "      <td>Asia</td>\n",
       "      <td>Southern Asia</td>\n",
       "      <td>NaN</td>\n",
       "      <td>142.0</td>\n",
       "      <td>34.0</td>\n",
       "      <td>NaN</td>\n",
       "    </tr>\n",
       "    <tr>\n",
       "      <th>1</th>\n",
       "      <td>Åland Islands</td>\n",
       "      <td>AX</td>\n",
       "      <td>ALA</td>\n",
       "      <td>248</td>\n",
       "      <td>ISO 3166-2:AX</td>\n",
       "      <td>Europe</td>\n",
       "      <td>Northern Europe</td>\n",
       "      <td>NaN</td>\n",
       "      <td>150.0</td>\n",
       "      <td>154.0</td>\n",
       "      <td>NaN</td>\n",
       "    </tr>\n",
       "    <tr>\n",
       "      <th>2</th>\n",
       "      <td>Albania</td>\n",
       "      <td>AL</td>\n",
       "      <td>ALB</td>\n",
       "      <td>8</td>\n",
       "      <td>ISO 3166-2:AL</td>\n",
       "      <td>Europe</td>\n",
       "      <td>Southern Europe</td>\n",
       "      <td>NaN</td>\n",
       "      <td>150.0</td>\n",
       "      <td>39.0</td>\n",
       "      <td>NaN</td>\n",
       "    </tr>\n",
       "    <tr>\n",
       "      <th>3</th>\n",
       "      <td>Algeria</td>\n",
       "      <td>DZ</td>\n",
       "      <td>DZA</td>\n",
       "      <td>12</td>\n",
       "      <td>ISO 3166-2:DZ</td>\n",
       "      <td>Africa</td>\n",
       "      <td>Northern Africa</td>\n",
       "      <td>NaN</td>\n",
       "      <td>2.0</td>\n",
       "      <td>15.0</td>\n",
       "      <td>NaN</td>\n",
       "    </tr>\n",
       "    <tr>\n",
       "      <th>4</th>\n",
       "      <td>American Samoa</td>\n",
       "      <td>AS</td>\n",
       "      <td>ASM</td>\n",
       "      <td>16</td>\n",
       "      <td>ISO 3166-2:AS</td>\n",
       "      <td>Oceania</td>\n",
       "      <td>Polynesia</td>\n",
       "      <td>NaN</td>\n",
       "      <td>9.0</td>\n",
       "      <td>61.0</td>\n",
       "      <td>NaN</td>\n",
       "    </tr>\n",
       "    <tr>\n",
       "      <th>...</th>\n",
       "      <td>...</td>\n",
       "      <td>...</td>\n",
       "      <td>...</td>\n",
       "      <td>...</td>\n",
       "      <td>...</td>\n",
       "      <td>...</td>\n",
       "      <td>...</td>\n",
       "      <td>...</td>\n",
       "      <td>...</td>\n",
       "      <td>...</td>\n",
       "      <td>...</td>\n",
       "    </tr>\n",
       "    <tr>\n",
       "      <th>244</th>\n",
       "      <td>Wallis and Futuna</td>\n",
       "      <td>WF</td>\n",
       "      <td>WLF</td>\n",
       "      <td>876</td>\n",
       "      <td>ISO 3166-2:WF</td>\n",
       "      <td>Oceania</td>\n",
       "      <td>Polynesia</td>\n",
       "      <td>NaN</td>\n",
       "      <td>9.0</td>\n",
       "      <td>61.0</td>\n",
       "      <td>NaN</td>\n",
       "    </tr>\n",
       "    <tr>\n",
       "      <th>245</th>\n",
       "      <td>Western Sahara</td>\n",
       "      <td>EH</td>\n",
       "      <td>ESH</td>\n",
       "      <td>732</td>\n",
       "      <td>ISO 3166-2:EH</td>\n",
       "      <td>Africa</td>\n",
       "      <td>Northern Africa</td>\n",
       "      <td>NaN</td>\n",
       "      <td>2.0</td>\n",
       "      <td>15.0</td>\n",
       "      <td>NaN</td>\n",
       "    </tr>\n",
       "    <tr>\n",
       "      <th>246</th>\n",
       "      <td>Yemen</td>\n",
       "      <td>YE</td>\n",
       "      <td>YEM</td>\n",
       "      <td>887</td>\n",
       "      <td>ISO 3166-2:YE</td>\n",
       "      <td>Asia</td>\n",
       "      <td>Western Asia</td>\n",
       "      <td>NaN</td>\n",
       "      <td>142.0</td>\n",
       "      <td>145.0</td>\n",
       "      <td>NaN</td>\n",
       "    </tr>\n",
       "    <tr>\n",
       "      <th>247</th>\n",
       "      <td>Zambia</td>\n",
       "      <td>ZM</td>\n",
       "      <td>ZMB</td>\n",
       "      <td>894</td>\n",
       "      <td>ISO 3166-2:ZM</td>\n",
       "      <td>Africa</td>\n",
       "      <td>Sub-Saharan Africa</td>\n",
       "      <td>Eastern Africa</td>\n",
       "      <td>2.0</td>\n",
       "      <td>202.0</td>\n",
       "      <td>14.0</td>\n",
       "    </tr>\n",
       "    <tr>\n",
       "      <th>248</th>\n",
       "      <td>Zimbabwe</td>\n",
       "      <td>ZW</td>\n",
       "      <td>ZWE</td>\n",
       "      <td>716</td>\n",
       "      <td>ISO 3166-2:ZW</td>\n",
       "      <td>Africa</td>\n",
       "      <td>Sub-Saharan Africa</td>\n",
       "      <td>Eastern Africa</td>\n",
       "      <td>2.0</td>\n",
       "      <td>202.0</td>\n",
       "      <td>14.0</td>\n",
       "    </tr>\n",
       "  </tbody>\n",
       "</table>\n",
       "<p>249 rows × 11 columns</p>\n",
       "</div>"
      ],
      "text/plain": [
       "                  name alpha-2 alpha-3  country-code     iso_3166-2   REGION   \n",
       "0          Afghanistan      AF     AFG             4  ISO 3166-2:AF     Asia  \\\n",
       "1        Åland Islands      AX     ALA           248  ISO 3166-2:AX   Europe   \n",
       "2              Albania      AL     ALB             8  ISO 3166-2:AL   Europe   \n",
       "3              Algeria      DZ     DZA            12  ISO 3166-2:DZ   Africa   \n",
       "4       American Samoa      AS     ASM            16  ISO 3166-2:AS  Oceania   \n",
       "..                 ...     ...     ...           ...            ...      ...   \n",
       "244  Wallis and Futuna      WF     WLF           876  ISO 3166-2:WF  Oceania   \n",
       "245     Western Sahara      EH     ESH           732  ISO 3166-2:EH   Africa   \n",
       "246              Yemen      YE     YEM           887  ISO 3166-2:YE     Asia   \n",
       "247             Zambia      ZM     ZMB           894  ISO 3166-2:ZM   Africa   \n",
       "248           Zimbabwe      ZW     ZWE           716  ISO 3166-2:ZW   Africa   \n",
       "\n",
       "             sub-region intermediate-region  region-code  sub-region-code   \n",
       "0         Southern Asia                 NaN        142.0             34.0  \\\n",
       "1       Northern Europe                 NaN        150.0            154.0   \n",
       "2       Southern Europe                 NaN        150.0             39.0   \n",
       "3       Northern Africa                 NaN          2.0             15.0   \n",
       "4             Polynesia                 NaN          9.0             61.0   \n",
       "..                  ...                 ...          ...              ...   \n",
       "244           Polynesia                 NaN          9.0             61.0   \n",
       "245     Northern Africa                 NaN          2.0             15.0   \n",
       "246        Western Asia                 NaN        142.0            145.0   \n",
       "247  Sub-Saharan Africa      Eastern Africa          2.0            202.0   \n",
       "248  Sub-Saharan Africa      Eastern Africa          2.0            202.0   \n",
       "\n",
       "     intermediate-region-code  \n",
       "0                         NaN  \n",
       "1                         NaN  \n",
       "2                         NaN  \n",
       "3                         NaN  \n",
       "4                         NaN  \n",
       "..                        ...  \n",
       "244                       NaN  \n",
       "245                       NaN  \n",
       "246                       NaN  \n",
       "247                      14.0  \n",
       "248                      14.0  \n",
       "\n",
       "[249 rows x 11 columns]"
      ]
     },
     "execution_count": 155,
     "metadata": {},
     "output_type": "execute_result"
    }
   ],
   "source": [
    "country.rename(columns={'region': 'REGION'})"
   ]
  },
  {
   "cell_type": "markdown",
   "id": "2f53728d-6e67-465b-9519-f3cfc56de2f9",
   "metadata": {},
   "source": [
    "Exercise6:rename the row index of 2 with 3"
   ]
  },
  {
   "cell_type": "code",
   "execution_count": 157,
   "id": "21bb9410-af25-4050-b0c6-7e888f9bf05e",
   "metadata": {},
   "outputs": [
    {
     "data": {
      "text/html": [
       "<div>\n",
       "<style scoped>\n",
       "    .dataframe tbody tr th:only-of-type {\n",
       "        vertical-align: middle;\n",
       "    }\n",
       "\n",
       "    .dataframe tbody tr th {\n",
       "        vertical-align: top;\n",
       "    }\n",
       "\n",
       "    .dataframe thead th {\n",
       "        text-align: right;\n",
       "    }\n",
       "</style>\n",
       "<table border=\"1\" class=\"dataframe\">\n",
       "  <thead>\n",
       "    <tr style=\"text-align: right;\">\n",
       "      <th></th>\n",
       "      <th>name</th>\n",
       "      <th>alpha-2</th>\n",
       "      <th>alpha-3</th>\n",
       "      <th>country-code</th>\n",
       "      <th>iso_3166-2</th>\n",
       "      <th>region</th>\n",
       "      <th>sub-region</th>\n",
       "      <th>intermediate-region</th>\n",
       "      <th>region-code</th>\n",
       "      <th>sub-region-code</th>\n",
       "      <th>intermediate-region-code</th>\n",
       "    </tr>\n",
       "  </thead>\n",
       "  <tbody>\n",
       "    <tr>\n",
       "      <th>0</th>\n",
       "      <td>Afghanistan</td>\n",
       "      <td>AF</td>\n",
       "      <td>AFG</td>\n",
       "      <td>4</td>\n",
       "      <td>ISO 3166-2:AF</td>\n",
       "      <td>Asia</td>\n",
       "      <td>Southern Asia</td>\n",
       "      <td>NaN</td>\n",
       "      <td>142.0</td>\n",
       "      <td>34.0</td>\n",
       "      <td>NaN</td>\n",
       "    </tr>\n",
       "    <tr>\n",
       "      <th>1</th>\n",
       "      <td>Åland Islands</td>\n",
       "      <td>AX</td>\n",
       "      <td>ALA</td>\n",
       "      <td>248</td>\n",
       "      <td>ISO 3166-2:AX</td>\n",
       "      <td>Europe</td>\n",
       "      <td>Northern Europe</td>\n",
       "      <td>NaN</td>\n",
       "      <td>150.0</td>\n",
       "      <td>154.0</td>\n",
       "      <td>NaN</td>\n",
       "    </tr>\n",
       "    <tr>\n",
       "      <th>3</th>\n",
       "      <td>Albania</td>\n",
       "      <td>AL</td>\n",
       "      <td>ALB</td>\n",
       "      <td>8</td>\n",
       "      <td>ISO 3166-2:AL</td>\n",
       "      <td>Europe</td>\n",
       "      <td>Southern Europe</td>\n",
       "      <td>NaN</td>\n",
       "      <td>150.0</td>\n",
       "      <td>39.0</td>\n",
       "      <td>NaN</td>\n",
       "    </tr>\n",
       "    <tr>\n",
       "      <th>3</th>\n",
       "      <td>Algeria</td>\n",
       "      <td>DZ</td>\n",
       "      <td>DZA</td>\n",
       "      <td>12</td>\n",
       "      <td>ISO 3166-2:DZ</td>\n",
       "      <td>Africa</td>\n",
       "      <td>Northern Africa</td>\n",
       "      <td>NaN</td>\n",
       "      <td>2.0</td>\n",
       "      <td>15.0</td>\n",
       "      <td>NaN</td>\n",
       "    </tr>\n",
       "    <tr>\n",
       "      <th>4</th>\n",
       "      <td>American Samoa</td>\n",
       "      <td>AS</td>\n",
       "      <td>ASM</td>\n",
       "      <td>16</td>\n",
       "      <td>ISO 3166-2:AS</td>\n",
       "      <td>Oceania</td>\n",
       "      <td>Polynesia</td>\n",
       "      <td>NaN</td>\n",
       "      <td>9.0</td>\n",
       "      <td>61.0</td>\n",
       "      <td>NaN</td>\n",
       "    </tr>\n",
       "    <tr>\n",
       "      <th>...</th>\n",
       "      <td>...</td>\n",
       "      <td>...</td>\n",
       "      <td>...</td>\n",
       "      <td>...</td>\n",
       "      <td>...</td>\n",
       "      <td>...</td>\n",
       "      <td>...</td>\n",
       "      <td>...</td>\n",
       "      <td>...</td>\n",
       "      <td>...</td>\n",
       "      <td>...</td>\n",
       "    </tr>\n",
       "    <tr>\n",
       "      <th>244</th>\n",
       "      <td>Wallis and Futuna</td>\n",
       "      <td>WF</td>\n",
       "      <td>WLF</td>\n",
       "      <td>876</td>\n",
       "      <td>ISO 3166-2:WF</td>\n",
       "      <td>Oceania</td>\n",
       "      <td>Polynesia</td>\n",
       "      <td>NaN</td>\n",
       "      <td>9.0</td>\n",
       "      <td>61.0</td>\n",
       "      <td>NaN</td>\n",
       "    </tr>\n",
       "    <tr>\n",
       "      <th>245</th>\n",
       "      <td>Western Sahara</td>\n",
       "      <td>EH</td>\n",
       "      <td>ESH</td>\n",
       "      <td>732</td>\n",
       "      <td>ISO 3166-2:EH</td>\n",
       "      <td>Africa</td>\n",
       "      <td>Northern Africa</td>\n",
       "      <td>NaN</td>\n",
       "      <td>2.0</td>\n",
       "      <td>15.0</td>\n",
       "      <td>NaN</td>\n",
       "    </tr>\n",
       "    <tr>\n",
       "      <th>246</th>\n",
       "      <td>Yemen</td>\n",
       "      <td>YE</td>\n",
       "      <td>YEM</td>\n",
       "      <td>887</td>\n",
       "      <td>ISO 3166-2:YE</td>\n",
       "      <td>Asia</td>\n",
       "      <td>Western Asia</td>\n",
       "      <td>NaN</td>\n",
       "      <td>142.0</td>\n",
       "      <td>145.0</td>\n",
       "      <td>NaN</td>\n",
       "    </tr>\n",
       "    <tr>\n",
       "      <th>247</th>\n",
       "      <td>Zambia</td>\n",
       "      <td>ZM</td>\n",
       "      <td>ZMB</td>\n",
       "      <td>894</td>\n",
       "      <td>ISO 3166-2:ZM</td>\n",
       "      <td>Africa</td>\n",
       "      <td>Sub-Saharan Africa</td>\n",
       "      <td>Eastern Africa</td>\n",
       "      <td>2.0</td>\n",
       "      <td>202.0</td>\n",
       "      <td>14.0</td>\n",
       "    </tr>\n",
       "    <tr>\n",
       "      <th>248</th>\n",
       "      <td>Zimbabwe</td>\n",
       "      <td>ZW</td>\n",
       "      <td>ZWE</td>\n",
       "      <td>716</td>\n",
       "      <td>ISO 3166-2:ZW</td>\n",
       "      <td>Africa</td>\n",
       "      <td>Sub-Saharan Africa</td>\n",
       "      <td>Eastern Africa</td>\n",
       "      <td>2.0</td>\n",
       "      <td>202.0</td>\n",
       "      <td>14.0</td>\n",
       "    </tr>\n",
       "  </tbody>\n",
       "</table>\n",
       "<p>249 rows × 11 columns</p>\n",
       "</div>"
      ],
      "text/plain": [
       "                  name alpha-2 alpha-3  country-code     iso_3166-2   region   \n",
       "0          Afghanistan      AF     AFG             4  ISO 3166-2:AF     Asia  \\\n",
       "1        Åland Islands      AX     ALA           248  ISO 3166-2:AX   Europe   \n",
       "3              Albania      AL     ALB             8  ISO 3166-2:AL   Europe   \n",
       "3              Algeria      DZ     DZA            12  ISO 3166-2:DZ   Africa   \n",
       "4       American Samoa      AS     ASM            16  ISO 3166-2:AS  Oceania   \n",
       "..                 ...     ...     ...           ...            ...      ...   \n",
       "244  Wallis and Futuna      WF     WLF           876  ISO 3166-2:WF  Oceania   \n",
       "245     Western Sahara      EH     ESH           732  ISO 3166-2:EH   Africa   \n",
       "246              Yemen      YE     YEM           887  ISO 3166-2:YE     Asia   \n",
       "247             Zambia      ZM     ZMB           894  ISO 3166-2:ZM   Africa   \n",
       "248           Zimbabwe      ZW     ZWE           716  ISO 3166-2:ZW   Africa   \n",
       "\n",
       "             sub-region intermediate-region  region-code  sub-region-code   \n",
       "0         Southern Asia                 NaN        142.0             34.0  \\\n",
       "1       Northern Europe                 NaN        150.0            154.0   \n",
       "3       Southern Europe                 NaN        150.0             39.0   \n",
       "3       Northern Africa                 NaN          2.0             15.0   \n",
       "4             Polynesia                 NaN          9.0             61.0   \n",
       "..                  ...                 ...          ...              ...   \n",
       "244           Polynesia                 NaN          9.0             61.0   \n",
       "245     Northern Africa                 NaN          2.0             15.0   \n",
       "246        Western Asia                 NaN        142.0            145.0   \n",
       "247  Sub-Saharan Africa      Eastern Africa          2.0            202.0   \n",
       "248  Sub-Saharan Africa      Eastern Africa          2.0            202.0   \n",
       "\n",
       "     intermediate-region-code  \n",
       "0                         NaN  \n",
       "1                         NaN  \n",
       "3                         NaN  \n",
       "3                         NaN  \n",
       "4                         NaN  \n",
       "..                        ...  \n",
       "244                       NaN  \n",
       "245                       NaN  \n",
       "246                       NaN  \n",
       "247                      14.0  \n",
       "248                      14.0  \n",
       "\n",
       "[249 rows x 11 columns]"
      ]
     },
     "execution_count": 157,
     "metadata": {},
     "output_type": "execute_result"
    }
   ],
   "source": [
    "country.rename(index = {2 : 3})\n"
   ]
  },
  {
   "cell_type": "code",
   "execution_count": null,
   "id": "e326ffed-6435-4b72-a215-37aab32fe82c",
   "metadata": {},
   "outputs": [],
   "source": [
    "country.rename(index={2: 3})"
   ]
  },
  {
   "cell_type": "markdown",
   "id": "7fb0529a-b358-4218-b5a7-80b84ad6146a",
   "metadata": {},
   "source": [
    "Exercise7:Read the states_by_country_code.csv file, check its properties, and rename some row and column indexes"
   ]
  },
  {
   "cell_type": "code",
   "execution_count": 160,
   "id": "5e3f65a7-ceac-4ccb-b870-3860b8157047",
   "metadata": {},
   "outputs": [
    {
     "data": {
      "text/html": [
       "<div>\n",
       "<style scoped>\n",
       "    .dataframe tbody tr th:only-of-type {\n",
       "        vertical-align: middle;\n",
       "    }\n",
       "\n",
       "    .dataframe tbody tr th {\n",
       "        vertical-align: top;\n",
       "    }\n",
       "\n",
       "    .dataframe thead th {\n",
       "        text-align: right;\n",
       "    }\n",
       "</style>\n",
       "<table border=\"1\" class=\"dataframe\">\n",
       "  <thead>\n",
       "    <tr style=\"text-align: right;\">\n",
       "      <th></th>\n",
       "      <th>State Code</th>\n",
       "      <th>State Name</th>\n",
       "      <th>Country Code</th>\n",
       "    </tr>\n",
       "  </thead>\n",
       "  <tbody>\n",
       "    <tr>\n",
       "      <th>0</th>\n",
       "      <td>BDS</td>\n",
       "      <td>Badakhshan</td>\n",
       "      <td>AF</td>\n",
       "    </tr>\n",
       "    <tr>\n",
       "      <th>1</th>\n",
       "      <td>BDG</td>\n",
       "      <td>Badghis</td>\n",
       "      <td>AF</td>\n",
       "    </tr>\n",
       "    <tr>\n",
       "      <th>2</th>\n",
       "      <td>BGL</td>\n",
       "      <td>Baghlan</td>\n",
       "      <td>AF</td>\n",
       "    </tr>\n",
       "    <tr>\n",
       "      <th>3</th>\n",
       "      <td>BAL</td>\n",
       "      <td>Balkh</td>\n",
       "      <td>AF</td>\n",
       "    </tr>\n",
       "    <tr>\n",
       "      <th>4</th>\n",
       "      <td>BAM</td>\n",
       "      <td>Bamyan</td>\n",
       "      <td>AF</td>\n",
       "    </tr>\n",
       "    <tr>\n",
       "      <th>...</th>\n",
       "      <td>...</td>\n",
       "      <td>...</td>\n",
       "      <td>...</td>\n",
       "    </tr>\n",
       "    <tr>\n",
       "      <th>4984</th>\n",
       "      <td>MW</td>\n",
       "      <td>Mashonaland West Province</td>\n",
       "      <td>ZW</td>\n",
       "    </tr>\n",
       "    <tr>\n",
       "      <th>4985</th>\n",
       "      <td>MV</td>\n",
       "      <td>Masvingo Province</td>\n",
       "      <td>ZW</td>\n",
       "    </tr>\n",
       "    <tr>\n",
       "      <th>4986</th>\n",
       "      <td>MN</td>\n",
       "      <td>Matabeleland North Province</td>\n",
       "      <td>ZW</td>\n",
       "    </tr>\n",
       "    <tr>\n",
       "      <th>4987</th>\n",
       "      <td>MS</td>\n",
       "      <td>Matabeleland South Province</td>\n",
       "      <td>ZW</td>\n",
       "    </tr>\n",
       "    <tr>\n",
       "      <th>4988</th>\n",
       "      <td>MI</td>\n",
       "      <td>Midlands Province</td>\n",
       "      <td>ZW</td>\n",
       "    </tr>\n",
       "  </tbody>\n",
       "</table>\n",
       "<p>4989 rows × 3 columns</p>\n",
       "</div>"
      ],
      "text/plain": [
       "     State Code                   State Name Country Code\n",
       "0           BDS                   Badakhshan           AF\n",
       "1           BDG                      Badghis           AF\n",
       "2           BGL                      Baghlan           AF\n",
       "3           BAL                        Balkh           AF\n",
       "4           BAM                       Bamyan           AF\n",
       "...         ...                          ...          ...\n",
       "4984         MW    Mashonaland West Province           ZW\n",
       "4985         MV            Masvingo Province           ZW\n",
       "4986         MN  Matabeleland North Province           ZW\n",
       "4987         MS  Matabeleland South Province           ZW\n",
       "4988         MI            Midlands Province           ZW\n",
       "\n",
       "[4989 rows x 3 columns]"
      ]
     },
     "execution_count": 160,
     "metadata": {},
     "output_type": "execute_result"
    }
   ],
   "source": [
    "\n",
    "\n",
    "\n",
    "\n",
    "\n",
    "\n",
    "\n",
    "\n",
    "\n",
    "\n",
    "\n",
    "\n",
    "\n",
    "\n",
    "\n",
    "\n",
    "\n",
    "\n",
    "\n",
    "\n",
    "\n",
    "\n",
    "\n",
    "\n",
    "\n",
    "\n",
    "\n",
    "\n",
    "\n"
   ]
  },
  {
   "cell_type": "code",
   "execution_count": null,
   "id": "aa268c11-cf3a-4d81-8e5f-d23fbd53cb57",
   "metadata": {},
   "outputs": [],
   "source": [
    "States = pd.read_csv('states_by_country_code.csv')\n",
    "print(States)"
   ]
  },
  {
   "cell_type": "code",
   "execution_count": null,
   "id": "c6543d2e-9598-4eff-94e7-d55aa7a3605a",
   "metadata": {},
   "outputs": [],
   "source": [
    "States.columns"
   ]
  },
  {
   "cell_type": "code",
   "execution_count": null,
   "id": "e4ebd6c7-c175-4703-8c96-240f911e5b03",
   "metadata": {},
   "outputs": [],
   "source": [
    "States.index"
   ]
  },
  {
   "cell_type": "code",
   "execution_count": null,
   "id": "94ae2e2e-2ee9-4d1e-81a0-c753626ee14f",
   "metadata": {},
   "outputs": [],
   "source": [
    "States.shape"
   ]
  },
  {
   "cell_type": "code",
   "execution_count": null,
   "id": "0f96a9d9-2b86-4270-920e-bb393d8bf54a",
   "metadata": {},
   "outputs": [],
   "source": [
    "States.dtypes"
   ]
  },
  {
   "cell_type": "code",
   "execution_count": null,
   "id": "9db26e7c-a880-416f-aa18-9cf243862618",
   "metadata": {},
   "outputs": [],
   "source": [
    "States.rename(columns={'State Code': 'SC'})"
   ]
  },
  {
   "cell_type": "code",
   "execution_count": null,
   "id": "12c0310c-1658-404d-bbd6-076409f742c9",
   "metadata": {},
   "outputs": [],
   "source": [
    "States.rename(index={4: 5})"
   ]
  },
  {
   "cell_type": "code",
   "execution_count": null,
   "id": "501413c0-f803-4100-a7e6-f45a422fb511",
   "metadata": {},
   "outputs": [],
   "source": [
    "## Subsetting Series"
   ]
  },
  {
   "cell_type": "code",
   "execution_count": null,
   "id": "af2c5341-b8d0-4f20-909b-50f42cf74817",
   "metadata": {},
   "outputs": [],
   "source": [
    "h= pd.Series(np.array([1,7,9]))\n",
    "print(h)"
   ]
  },
  {
   "cell_type": "code",
   "execution_count": null,
   "id": "c4380321-e50b-49cb-81ec-225ae6189f61",
   "metadata": {},
   "outputs": [],
   "source": [
    "h.loc[2]  "
   ]
  },
  {
   "cell_type": "code",
   "execution_count": null,
   "id": "f0e6605f-dc51-4de5-846d-062f69eb77a9",
   "metadata": {},
   "outputs": [],
   "source": [
    "h.loc[:2]"
   ]
  },
  {
   "cell_type": "code",
   "execution_count": null,
   "id": "86817768-62c7-4578-972d-603ea597f966",
   "metadata": {},
   "outputs": [],
   "source": [
    "h.loc[[0,1]]"
   ]
  },
  {
   "cell_type": "code",
   "execution_count": null,
   "id": "b25dfb55-cac6-4484-8df9-e53f7f9ee7dd",
   "metadata": {},
   "outputs": [],
   "source": [
    "h.iloc[2]  "
   ]
  },
  {
   "cell_type": "code",
   "execution_count": null,
   "id": "4facb551-64c3-4d61-b64a-b9a405bf110e",
   "metadata": {},
   "outputs": [],
   "source": [
    "h.iloc[:2]"
   ]
  },
  {
   "cell_type": "code",
   "execution_count": null,
   "id": "c72b1af3-515b-4af6-89f1-4f251e57e91e",
   "metadata": {},
   "outputs": [],
   "source": [
    "h.iloc[[0,1]]"
   ]
  },
  {
   "cell_type": "markdown",
   "id": "6a0f36a2-9402-4d5c-8a82-a9b3ca873eee",
   "metadata": {},
   "source": [
    "Extract a individual value (5), slice for row indexed with 2 nad 3 and a list of indecices for the row indexed with 1 and 3 from t= pd.Series(np.array([3,5,7,8]))"
   ]
  },
  {
   "cell_type": "code",
   "execution_count": null,
   "id": "22c987d3-c293-4947-8212-ead4c2ec95e1",
   "metadata": {},
   "outputs": [],
   "source": [
    "t= pd.Series(np.array([3,5,7,8]))\n",
    "t"
   ]
  },
  {
   "cell_type": "code",
   "execution_count": null,
   "id": "9e0b309a-2791-4f18-9260-8a58fd1a7159",
   "metadata": {},
   "outputs": [],
   "source": [
    "t.loc[1]  "
   ]
  },
  {
   "cell_type": "code",
   "execution_count": null,
   "id": "cbbecd58-631a-4a0b-87dc-fba2c7ce8e58",
   "metadata": {},
   "outputs": [],
   "source": [
    "t.loc[2:3]"
   ]
  },
  {
   "cell_type": "code",
   "execution_count": null,
   "id": "b01a54ce-0ae2-4849-a375-d2546c50f8e5",
   "metadata": {},
   "outputs": [],
   "source": [
    "t.loc[[1,3]]"
   ]
  },
  {
   "cell_type": "code",
   "execution_count": null,
   "id": "21d0e7ab-284d-4616-bd3f-7a66cd8531e3",
   "metadata": {},
   "outputs": [],
   "source": [
    "t.iloc[1] "
   ]
  },
  {
   "cell_type": "code",
   "execution_count": null,
   "id": "d94d6754-258e-4e12-8afe-4f6fc28a3a9e",
   "metadata": {},
   "outputs": [],
   "source": [
    "t.iloc[2:3]"
   ]
  },
  {
   "cell_type": "code",
   "execution_count": null,
   "id": "37d27674-c3b1-4d14-9b6f-2ceb9fe44a84",
   "metadata": {},
   "outputs": [],
   "source": [
    "t.iloc[[1,3]]"
   ]
  },
  {
   "cell_type": "markdown",
   "id": "98e73f48-ec11-46a7-844a-c65cafec6948",
   "metadata": {},
   "source": [
    "Reference: https://jupyter.org https://the-turing-way.netlify.app/communication/binder/zero-to-binder.html https://docs.python.org https://wsform.com/knowledgebase/sample-csv-files/ https://geobgu.xyz/py/"
   ]
  }
 ],
 "metadata": {
  "kernelspec": {
   "display_name": "Python 3 (ipykernel)",
   "language": "python",
   "name": "python3"
  },
  "language_info": {
   "codemirror_mode": {
    "name": "ipython",
    "version": 3
   },
   "file_extension": ".py",
   "mimetype": "text/x-python",
   "name": "python",
   "nbconvert_exporter": "python",
   "pygments_lexer": "ipython3",
   "version": "3.10.10"
  }
 },
 "nbformat": 4,
 "nbformat_minor": 5
}
