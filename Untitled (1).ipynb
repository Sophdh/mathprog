{
 "cells": [
  {
   "cell_type": "code",
   "execution_count": 1,
   "id": "527f5cd9-1e22-4427-906e-6ce00e3a47e0",
   "metadata": {},
   "outputs": [],
   "source": [
    "import numpy as np\n",
    "import matplotlib as mat\n",
    "import pandas  as pd\n",
    "import geopandas as gpd\n",
    "import fiona "
   ]
  },
  {
   "cell_type": "code",
   "execution_count": null,
   "id": "38229dd8-6a8e-4a3e-aa59-9644a8a451e5",
   "metadata": {},
   "outputs": [],
   "source": []
  }
 ],
 "metadata": {
  "kernelspec": {
   "display_name": "Python 3 (ipykernel)",
   "language": "python",
   "name": "python3"
  },
  "language_info": {
   "codemirror_mode": {
    "name": "ipython",
    "version": 3
   },
   "file_extension": ".py",
   "mimetype": "text/x-python",
   "name": "python",
   "nbconvert_exporter": "python",
   "pygments_lexer": "ipython3",
   "version": "3.10.9"
  }
 },
 "nbformat": 4,
 "nbformat_minor": 5
}
