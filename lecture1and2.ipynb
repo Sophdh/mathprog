{
 "cells": [
  {
   "cell_type": "markdown",
   "id": "8234b5ec-cfa0-47ad-ab89-2b3999501920",
   "metadata": {},
   "source": [
    "##test"
   ]
  },
  {
   "cell_type": "code",
   "execution_count": 2,
   "id": "527f5cd9-1e22-4427-906e-6ce00e3a47e0",
   "metadata": {},
   "outputs": [],
   "source": [
    "# import library\n",
    "import numpy as np\n",
    "import matplotlib as mat\n",
    "import pandas  as pd\n",
    "import geopandas as gpd\n",
    "import fiona "
   ]
  }
 ],
 "metadata": {
  "kernelspec": {
   "display_name": "Python 3 (ipykernel)",
   "language": "python",
   "name": "python3"
  },
  "language_info": {
   "codemirror_mode": {
    "name": "ipython",
    "version": 3
   },
   "file_extension": ".py",
   "mimetype": "text/x-python",
   "name": "python",
   "nbconvert_exporter": "python",
   "pygments_lexer": "ipython3",
   "version": "3.10.9"
  }
 },
 "nbformat": 4,
 "nbformat_minor": 5
}
